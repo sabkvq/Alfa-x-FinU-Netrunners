{
  "cells": [
    {
      "cell_type": "markdown",
      "metadata": {
        "id": "cbcf3aae-5417-42a3-9ed2-818b9aef0f2f"
      },
      "source": [
        "# Установка и импорт библиотек"
      ]
    },
    {
      "cell_type": "code",
      "execution_count": 1,
      "metadata": {
        "colab": {
          "base_uri": "https://localhost:8080/"
        },
        "id": "tUICSPHpZDht",
        "outputId": "a91d9797-7900-446b-ba56-48df19512f6e"
      },
      "outputs": [
        {
          "output_type": "stream",
          "name": "stdout",
          "text": [
            "Mounted at /content/drive\n"
          ]
        }
      ],
      "source": [
        "from google.colab import drive\n",
        "drive.mount('/content/drive')"
      ]
    },
    {
      "cell_type": "code",
      "source": [
        "!pip install catboost\n",
        "!pip install chromadb"
      ],
      "metadata": {
        "colab": {
          "base_uri": "https://localhost:8080/"
        },
        "id": "Nfv0A_wX4e61",
        "outputId": "2db29796-6a23-4bd0-c73e-ded9ff08c9ee"
      },
      "execution_count": 2,
      "outputs": [
        {
          "output_type": "stream",
          "name": "stdout",
          "text": [
            "Collecting catboost\n",
            "  Downloading catboost-1.2.3-cp310-cp310-manylinux2014_x86_64.whl (98.5 MB)\n",
            "\u001b[2K     \u001b[90m━━━━━━━━━━━━━━━━━━━━━━━━━━━━━━━━━━━━━━━━\u001b[0m \u001b[32m98.5/98.5 MB\u001b[0m \u001b[31m8.9 MB/s\u001b[0m eta \u001b[36m0:00:00\u001b[0m\n",
            "\u001b[?25hRequirement already satisfied: graphviz in /usr/local/lib/python3.10/dist-packages (from catboost) (0.20.3)\n",
            "Requirement already satisfied: matplotlib in /usr/local/lib/python3.10/dist-packages (from catboost) (3.7.1)\n",
            "Requirement already satisfied: numpy>=1.16.0 in /usr/local/lib/python3.10/dist-packages (from catboost) (1.25.2)\n",
            "Requirement already satisfied: pandas>=0.24 in /usr/local/lib/python3.10/dist-packages (from catboost) (2.0.3)\n",
            "Requirement already satisfied: scipy in /usr/local/lib/python3.10/dist-packages (from catboost) (1.11.4)\n",
            "Requirement already satisfied: plotly in /usr/local/lib/python3.10/dist-packages (from catboost) (5.15.0)\n",
            "Requirement already satisfied: six in /usr/local/lib/python3.10/dist-packages (from catboost) (1.16.0)\n",
            "Requirement already satisfied: python-dateutil>=2.8.2 in /usr/local/lib/python3.10/dist-packages (from pandas>=0.24->catboost) (2.8.2)\n",
            "Requirement already satisfied: pytz>=2020.1 in /usr/local/lib/python3.10/dist-packages (from pandas>=0.24->catboost) (2023.4)\n",
            "Requirement already satisfied: tzdata>=2022.1 in /usr/local/lib/python3.10/dist-packages (from pandas>=0.24->catboost) (2024.1)\n",
            "Requirement already satisfied: contourpy>=1.0.1 in /usr/local/lib/python3.10/dist-packages (from matplotlib->catboost) (1.2.1)\n",
            "Requirement already satisfied: cycler>=0.10 in /usr/local/lib/python3.10/dist-packages (from matplotlib->catboost) (0.12.1)\n",
            "Requirement already satisfied: fonttools>=4.22.0 in /usr/local/lib/python3.10/dist-packages (from matplotlib->catboost) (4.51.0)\n",
            "Requirement already satisfied: kiwisolver>=1.0.1 in /usr/local/lib/python3.10/dist-packages (from matplotlib->catboost) (1.4.5)\n",
            "Requirement already satisfied: packaging>=20.0 in /usr/local/lib/python3.10/dist-packages (from matplotlib->catboost) (24.0)\n",
            "Requirement already satisfied: pillow>=6.2.0 in /usr/local/lib/python3.10/dist-packages (from matplotlib->catboost) (9.4.0)\n",
            "Requirement already satisfied: pyparsing>=2.3.1 in /usr/local/lib/python3.10/dist-packages (from matplotlib->catboost) (3.1.2)\n",
            "Requirement already satisfied: tenacity>=6.2.0 in /usr/local/lib/python3.10/dist-packages (from plotly->catboost) (8.2.3)\n",
            "Installing collected packages: catboost\n",
            "Successfully installed catboost-1.2.3\n",
            "Collecting chromadb\n",
            "  Downloading chromadb-0.4.24-py3-none-any.whl (525 kB)\n",
            "\u001b[2K     \u001b[90m━━━━━━━━━━━━━━━━━━━━━━━━━━━━━━━━━━━━━━━━\u001b[0m \u001b[32m525.5/525.5 kB\u001b[0m \u001b[31m8.8 MB/s\u001b[0m eta \u001b[36m0:00:00\u001b[0m\n",
            "\u001b[?25hRequirement already satisfied: build>=1.0.3 in /usr/local/lib/python3.10/dist-packages (from chromadb) (1.2.1)\n",
            "Requirement already satisfied: requests>=2.28 in /usr/local/lib/python3.10/dist-packages (from chromadb) (2.31.0)\n",
            "Requirement already satisfied: pydantic>=1.9 in /usr/local/lib/python3.10/dist-packages (from chromadb) (2.6.4)\n",
            "Collecting chroma-hnswlib==0.7.3 (from chromadb)\n",
            "  Downloading chroma_hnswlib-0.7.3-cp310-cp310-manylinux_2_17_x86_64.manylinux2014_x86_64.whl (2.4 MB)\n",
            "\u001b[2K     \u001b[90m━━━━━━━━━━━━━━━━━━━━━━━━━━━━━━━━━━━━━━━━\u001b[0m \u001b[32m2.4/2.4 MB\u001b[0m \u001b[31m18.7 MB/s\u001b[0m eta \u001b[36m0:00:00\u001b[0m\n",
            "\u001b[?25hCollecting fastapi>=0.95.2 (from chromadb)\n",
            "  Downloading fastapi-0.110.1-py3-none-any.whl (91 kB)\n",
            "\u001b[2K     \u001b[90m━━━━━━━━━━━━━━━━━━━━━━━━━━━━━━━━━━━━━━━━\u001b[0m \u001b[32m91.9/91.9 kB\u001b[0m \u001b[31m13.9 MB/s\u001b[0m eta \u001b[36m0:00:00\u001b[0m\n",
            "\u001b[?25hCollecting uvicorn[standard]>=0.18.3 (from chromadb)\n",
            "  Downloading uvicorn-0.29.0-py3-none-any.whl (60 kB)\n",
            "\u001b[2K     \u001b[90m━━━━━━━━━━━━━━━━━━━━━━━━━━━━━━━━━━━━━━━━\u001b[0m \u001b[32m60.8/60.8 kB\u001b[0m \u001b[31m9.4 MB/s\u001b[0m eta \u001b[36m0:00:00\u001b[0m\n",
            "\u001b[?25hRequirement already satisfied: numpy>=1.22.5 in /usr/local/lib/python3.10/dist-packages (from chromadb) (1.25.2)\n",
            "Collecting posthog>=2.4.0 (from chromadb)\n",
            "  Downloading posthog-3.5.0-py2.py3-none-any.whl (41 kB)\n",
            "\u001b[2K     \u001b[90m━━━━━━━━━━━━━━━━━━━━━━━━━━━━━━━━━━━━━━━━\u001b[0m \u001b[32m41.3/41.3 kB\u001b[0m \u001b[31m5.6 MB/s\u001b[0m eta \u001b[36m0:00:00\u001b[0m\n",
            "\u001b[?25hRequirement already satisfied: typing-extensions>=4.5.0 in /usr/local/lib/python3.10/dist-packages (from chromadb) (4.11.0)\n",
            "Collecting pulsar-client>=3.1.0 (from chromadb)\n",
            "  Downloading pulsar_client-3.5.0-cp310-cp310-manylinux_2_17_x86_64.manylinux2014_x86_64.whl (5.4 MB)\n",
            "\u001b[2K     \u001b[90m━━━━━━━━━━━━━━━━━━━━━━━━━━━━━━━━━━━━━━━━\u001b[0m \u001b[32m5.4/5.4 MB\u001b[0m \u001b[31m34.6 MB/s\u001b[0m eta \u001b[36m0:00:00\u001b[0m\n",
            "\u001b[?25hCollecting onnxruntime>=1.14.1 (from chromadb)\n",
            "  Downloading onnxruntime-1.17.3-cp310-cp310-manylinux_2_27_x86_64.manylinux_2_28_x86_64.whl (6.8 MB)\n",
            "\u001b[2K     \u001b[90m━━━━━━━━━━━━━━━━━━━━━━━━━━━━━━━━━━━━━━━━\u001b[0m \u001b[32m6.8/6.8 MB\u001b[0m \u001b[31m52.5 MB/s\u001b[0m eta \u001b[36m0:00:00\u001b[0m\n",
            "\u001b[?25hCollecting opentelemetry-api>=1.2.0 (from chromadb)\n",
            "  Downloading opentelemetry_api-1.24.0-py3-none-any.whl (60 kB)\n",
            "\u001b[2K     \u001b[90m━━━━━━━━━━━━━━━━━━━━━━━━━━━━━━━━━━━━━━━━\u001b[0m \u001b[32m60.1/60.1 kB\u001b[0m \u001b[31m9.6 MB/s\u001b[0m eta \u001b[36m0:00:00\u001b[0m\n",
            "\u001b[?25hCollecting opentelemetry-exporter-otlp-proto-grpc>=1.2.0 (from chromadb)\n",
            "  Downloading opentelemetry_exporter_otlp_proto_grpc-1.24.0-py3-none-any.whl (18 kB)\n",
            "Collecting opentelemetry-instrumentation-fastapi>=0.41b0 (from chromadb)\n",
            "  Downloading opentelemetry_instrumentation_fastapi-0.45b0-py3-none-any.whl (11 kB)\n",
            "Collecting opentelemetry-sdk>=1.2.0 (from chromadb)\n",
            "  Downloading opentelemetry_sdk-1.24.0-py3-none-any.whl (106 kB)\n",
            "\u001b[2K     \u001b[90m━━━━━━━━━━━━━━━━━━━━━━━━━━━━━━━━━━━━━━━━\u001b[0m \u001b[32m106.1/106.1 kB\u001b[0m \u001b[31m15.2 MB/s\u001b[0m eta \u001b[36m0:00:00\u001b[0m\n",
            "\u001b[?25hRequirement already satisfied: tokenizers>=0.13.2 in /usr/local/lib/python3.10/dist-packages (from chromadb) (0.15.2)\n",
            "Collecting pypika>=0.48.9 (from chromadb)\n",
            "  Downloading PyPika-0.48.9.tar.gz (67 kB)\n",
            "\u001b[2K     \u001b[90m━━━━━━━━━━━━━━━━━━━━━━━━━━━━━━━━━━━━━━━━\u001b[0m \u001b[32m67.3/67.3 kB\u001b[0m \u001b[31m9.8 MB/s\u001b[0m eta \u001b[36m0:00:00\u001b[0m\n",
            "\u001b[?25h  Installing build dependencies ... \u001b[?25l\u001b[?25hdone\n",
            "  Getting requirements to build wheel ... \u001b[?25l\u001b[?25hdone\n",
            "  Preparing metadata (pyproject.toml) ... \u001b[?25l\u001b[?25hdone\n",
            "Requirement already satisfied: tqdm>=4.65.0 in /usr/local/lib/python3.10/dist-packages (from chromadb) (4.66.2)\n",
            "Collecting overrides>=7.3.1 (from chromadb)\n",
            "  Downloading overrides-7.7.0-py3-none-any.whl (17 kB)\n",
            "Requirement already satisfied: importlib-resources in /usr/local/lib/python3.10/dist-packages (from chromadb) (6.4.0)\n",
            "Requirement already satisfied: grpcio>=1.58.0 in /usr/local/lib/python3.10/dist-packages (from chromadb) (1.62.1)\n",
            "Collecting bcrypt>=4.0.1 (from chromadb)\n",
            "  Downloading bcrypt-4.1.2-cp39-abi3-manylinux_2_28_x86_64.whl (698 kB)\n",
            "\u001b[2K     \u001b[90m━━━━━━━━━━━━━━━━━━━━━━━━━━━━━━━━━━━━━━━━\u001b[0m \u001b[32m698.9/698.9 kB\u001b[0m \u001b[31m60.0 MB/s\u001b[0m eta \u001b[36m0:00:00\u001b[0m\n",
            "\u001b[?25hRequirement already satisfied: typer>=0.9.0 in /usr/local/lib/python3.10/dist-packages (from chromadb) (0.9.4)\n",
            "Collecting kubernetes>=28.1.0 (from chromadb)\n",
            "  Downloading kubernetes-29.0.0-py2.py3-none-any.whl (1.6 MB)\n",
            "\u001b[2K     \u001b[90m━━━━━━━━━━━━━━━━━━━━━━━━━━━━━━━━━━━━━━━━\u001b[0m \u001b[32m1.6/1.6 MB\u001b[0m \u001b[31m63.0 MB/s\u001b[0m eta \u001b[36m0:00:00\u001b[0m\n",
            "\u001b[?25hRequirement already satisfied: tenacity>=8.2.3 in /usr/local/lib/python3.10/dist-packages (from chromadb) (8.2.3)\n",
            "Requirement already satisfied: PyYAML>=6.0.0 in /usr/local/lib/python3.10/dist-packages (from chromadb) (6.0.1)\n",
            "Collecting mmh3>=4.0.1 (from chromadb)\n",
            "  Downloading mmh3-4.1.0-cp310-cp310-manylinux_2_5_x86_64.manylinux1_x86_64.manylinux_2_17_x86_64.manylinux2014_x86_64.whl (67 kB)\n",
            "\u001b[2K     \u001b[90m━━━━━━━━━━━━━━━━━━━━━━━━━━━━━━━━━━━━━━━━\u001b[0m \u001b[32m67.6/67.6 kB\u001b[0m \u001b[31m10.8 MB/s\u001b[0m eta \u001b[36m0:00:00\u001b[0m\n",
            "\u001b[?25hCollecting orjson>=3.9.12 (from chromadb)\n",
            "  Downloading orjson-3.10.1-cp310-cp310-manylinux_2_17_x86_64.manylinux2014_x86_64.whl (141 kB)\n",
            "\u001b[2K     \u001b[90m━━━━━━━━━━━━━━━━━━━━━━━━━━━━━━━━━━━━━━━━\u001b[0m \u001b[32m141.1/141.1 kB\u001b[0m \u001b[31m19.9 MB/s\u001b[0m eta \u001b[36m0:00:00\u001b[0m\n",
            "\u001b[?25hRequirement already satisfied: packaging>=19.1 in /usr/local/lib/python3.10/dist-packages (from build>=1.0.3->chromadb) (24.0)\n",
            "Requirement already satisfied: pyproject_hooks in /usr/local/lib/python3.10/dist-packages (from build>=1.0.3->chromadb) (1.0.0)\n",
            "Requirement already satisfied: tomli>=1.1.0 in /usr/local/lib/python3.10/dist-packages (from build>=1.0.3->chromadb) (2.0.1)\n",
            "Collecting starlette<0.38.0,>=0.37.2 (from fastapi>=0.95.2->chromadb)\n",
            "  Downloading starlette-0.37.2-py3-none-any.whl (71 kB)\n",
            "\u001b[2K     \u001b[90m━━━━━━━━━━━━━━━━━━━━━━━━━━━━━━━━━━━━━━━━\u001b[0m \u001b[32m71.9/71.9 kB\u001b[0m \u001b[31m11.3 MB/s\u001b[0m eta \u001b[36m0:00:00\u001b[0m\n",
            "\u001b[?25hRequirement already satisfied: certifi>=14.05.14 in /usr/local/lib/python3.10/dist-packages (from kubernetes>=28.1.0->chromadb) (2024.2.2)\n",
            "Requirement already satisfied: six>=1.9.0 in /usr/local/lib/python3.10/dist-packages (from kubernetes>=28.1.0->chromadb) (1.16.0)\n",
            "Requirement already satisfied: python-dateutil>=2.5.3 in /usr/local/lib/python3.10/dist-packages (from kubernetes>=28.1.0->chromadb) (2.8.2)\n",
            "Requirement already satisfied: google-auth>=1.0.1 in /usr/local/lib/python3.10/dist-packages (from kubernetes>=28.1.0->chromadb) (2.27.0)\n",
            "Requirement already satisfied: websocket-client!=0.40.0,!=0.41.*,!=0.42.*,>=0.32.0 in /usr/local/lib/python3.10/dist-packages (from kubernetes>=28.1.0->chromadb) (1.7.0)\n",
            "Requirement already satisfied: requests-oauthlib in /usr/local/lib/python3.10/dist-packages (from kubernetes>=28.1.0->chromadb) (1.3.1)\n",
            "Requirement already satisfied: oauthlib>=3.2.2 in /usr/local/lib/python3.10/dist-packages (from kubernetes>=28.1.0->chromadb) (3.2.2)\n",
            "Requirement already satisfied: urllib3>=1.24.2 in /usr/local/lib/python3.10/dist-packages (from kubernetes>=28.1.0->chromadb) (2.0.7)\n",
            "Collecting coloredlogs (from onnxruntime>=1.14.1->chromadb)\n",
            "  Downloading coloredlogs-15.0.1-py2.py3-none-any.whl (46 kB)\n",
            "\u001b[2K     \u001b[90m━━━━━━━━━━━━━━━━━━━━━━━━━━━━━━━━━━━━━━━━\u001b[0m \u001b[32m46.0/46.0 kB\u001b[0m \u001b[31m7.0 MB/s\u001b[0m eta \u001b[36m0:00:00\u001b[0m\n",
            "\u001b[?25hRequirement already satisfied: flatbuffers in /usr/local/lib/python3.10/dist-packages (from onnxruntime>=1.14.1->chromadb) (24.3.25)\n",
            "Requirement already satisfied: protobuf in /usr/local/lib/python3.10/dist-packages (from onnxruntime>=1.14.1->chromadb) (3.20.3)\n",
            "Requirement already satisfied: sympy in /usr/local/lib/python3.10/dist-packages (from onnxruntime>=1.14.1->chromadb) (1.12)\n",
            "Collecting deprecated>=1.2.6 (from opentelemetry-api>=1.2.0->chromadb)\n",
            "  Downloading Deprecated-1.2.14-py2.py3-none-any.whl (9.6 kB)\n",
            "Collecting importlib-metadata<=7.0,>=6.0 (from opentelemetry-api>=1.2.0->chromadb)\n",
            "  Downloading importlib_metadata-7.0.0-py3-none-any.whl (23 kB)\n",
            "Requirement already satisfied: googleapis-common-protos~=1.52 in /usr/local/lib/python3.10/dist-packages (from opentelemetry-exporter-otlp-proto-grpc>=1.2.0->chromadb) (1.63.0)\n",
            "Collecting opentelemetry-exporter-otlp-proto-common==1.24.0 (from opentelemetry-exporter-otlp-proto-grpc>=1.2.0->chromadb)\n",
            "  Downloading opentelemetry_exporter_otlp_proto_common-1.24.0-py3-none-any.whl (17 kB)\n",
            "Collecting opentelemetry-proto==1.24.0 (from opentelemetry-exporter-otlp-proto-grpc>=1.2.0->chromadb)\n",
            "  Downloading opentelemetry_proto-1.24.0-py3-none-any.whl (50 kB)\n",
            "\u001b[2K     \u001b[90m━━━━━━━━━━━━━━━━━━━━━━━━━━━━━━━━━━━━━━━━\u001b[0m \u001b[32m50.8/50.8 kB\u001b[0m \u001b[31m7.8 MB/s\u001b[0m eta \u001b[36m0:00:00\u001b[0m\n",
            "\u001b[?25hCollecting opentelemetry-instrumentation-asgi==0.45b0 (from opentelemetry-instrumentation-fastapi>=0.41b0->chromadb)\n",
            "  Downloading opentelemetry_instrumentation_asgi-0.45b0-py3-none-any.whl (14 kB)\n",
            "Collecting opentelemetry-instrumentation==0.45b0 (from opentelemetry-instrumentation-fastapi>=0.41b0->chromadb)\n",
            "  Downloading opentelemetry_instrumentation-0.45b0-py3-none-any.whl (28 kB)\n",
            "Collecting opentelemetry-semantic-conventions==0.45b0 (from opentelemetry-instrumentation-fastapi>=0.41b0->chromadb)\n",
            "  Downloading opentelemetry_semantic_conventions-0.45b0-py3-none-any.whl (36 kB)\n",
            "Collecting opentelemetry-util-http==0.45b0 (from opentelemetry-instrumentation-fastapi>=0.41b0->chromadb)\n",
            "  Downloading opentelemetry_util_http-0.45b0-py3-none-any.whl (6.9 kB)\n",
            "Requirement already satisfied: setuptools>=16.0 in /usr/local/lib/python3.10/dist-packages (from opentelemetry-instrumentation==0.45b0->opentelemetry-instrumentation-fastapi>=0.41b0->chromadb) (67.7.2)\n",
            "Requirement already satisfied: wrapt<2.0.0,>=1.0.0 in /usr/local/lib/python3.10/dist-packages (from opentelemetry-instrumentation==0.45b0->opentelemetry-instrumentation-fastapi>=0.41b0->chromadb) (1.14.1)\n",
            "Collecting asgiref~=3.0 (from opentelemetry-instrumentation-asgi==0.45b0->opentelemetry-instrumentation-fastapi>=0.41b0->chromadb)\n",
            "  Downloading asgiref-3.8.1-py3-none-any.whl (23 kB)\n",
            "Collecting monotonic>=1.5 (from posthog>=2.4.0->chromadb)\n",
            "  Downloading monotonic-1.6-py2.py3-none-any.whl (8.2 kB)\n",
            "Collecting backoff>=1.10.0 (from posthog>=2.4.0->chromadb)\n",
            "  Downloading backoff-2.2.1-py3-none-any.whl (15 kB)\n",
            "Requirement already satisfied: annotated-types>=0.4.0 in /usr/local/lib/python3.10/dist-packages (from pydantic>=1.9->chromadb) (0.6.0)\n",
            "Requirement already satisfied: pydantic-core==2.16.3 in /usr/local/lib/python3.10/dist-packages (from pydantic>=1.9->chromadb) (2.16.3)\n",
            "Requirement already satisfied: charset-normalizer<4,>=2 in /usr/local/lib/python3.10/dist-packages (from requests>=2.28->chromadb) (3.3.2)\n",
            "Requirement already satisfied: idna<4,>=2.5 in /usr/local/lib/python3.10/dist-packages (from requests>=2.28->chromadb) (3.6)\n",
            "Requirement already satisfied: huggingface_hub<1.0,>=0.16.4 in /usr/local/lib/python3.10/dist-packages (from tokenizers>=0.13.2->chromadb) (0.20.3)\n",
            "Requirement already satisfied: click<9.0.0,>=7.1.1 in /usr/local/lib/python3.10/dist-packages (from typer>=0.9.0->chromadb) (8.1.7)\n",
            "Collecting h11>=0.8 (from uvicorn[standard]>=0.18.3->chromadb)\n",
            "  Downloading h11-0.14.0-py3-none-any.whl (58 kB)\n",
            "\u001b[2K     \u001b[90m━━━━━━━━━━━━━━━━━━━━━━━━━━━━━━━━━━━━━━━━\u001b[0m \u001b[32m58.3/58.3 kB\u001b[0m \u001b[31m9.0 MB/s\u001b[0m eta \u001b[36m0:00:00\u001b[0m\n",
            "\u001b[?25hCollecting httptools>=0.5.0 (from uvicorn[standard]>=0.18.3->chromadb)\n",
            "  Downloading httptools-0.6.1-cp310-cp310-manylinux_2_5_x86_64.manylinux1_x86_64.manylinux_2_17_x86_64.manylinux2014_x86_64.whl (341 kB)\n",
            "\u001b[2K     \u001b[90m━━━━━━━━━━━━━━━━━━━━━━━━━━━━━━━━━━━━━━━━\u001b[0m \u001b[32m341.4/341.4 kB\u001b[0m \u001b[31m27.9 MB/s\u001b[0m eta \u001b[36m0:00:00\u001b[0m\n",
            "\u001b[?25hCollecting python-dotenv>=0.13 (from uvicorn[standard]>=0.18.3->chromadb)\n",
            "  Downloading python_dotenv-1.0.1-py3-none-any.whl (19 kB)\n",
            "Collecting uvloop!=0.15.0,!=0.15.1,>=0.14.0 (from uvicorn[standard]>=0.18.3->chromadb)\n",
            "  Downloading uvloop-0.19.0-cp310-cp310-manylinux_2_17_x86_64.manylinux2014_x86_64.whl (3.4 MB)\n",
            "\u001b[2K     \u001b[90m━━━━━━━━━━━━━━━━━━━━━━━━━━━━━━━━━━━━━━━━\u001b[0m \u001b[32m3.4/3.4 MB\u001b[0m \u001b[31m67.8 MB/s\u001b[0m eta \u001b[36m0:00:00\u001b[0m\n",
            "\u001b[?25hCollecting watchfiles>=0.13 (from uvicorn[standard]>=0.18.3->chromadb)\n",
            "  Downloading watchfiles-0.21.0-cp310-cp310-manylinux_2_17_x86_64.manylinux2014_x86_64.whl (1.3 MB)\n",
            "\u001b[2K     \u001b[90m━━━━━━━━━━━━━━━━━━━━━━━━━━━━━━━━━━━━━━━━\u001b[0m \u001b[32m1.3/1.3 MB\u001b[0m \u001b[31m67.2 MB/s\u001b[0m eta \u001b[36m0:00:00\u001b[0m\n",
            "\u001b[?25hCollecting websockets>=10.4 (from uvicorn[standard]>=0.18.3->chromadb)\n",
            "  Downloading websockets-12.0-cp310-cp310-manylinux_2_5_x86_64.manylinux1_x86_64.manylinux_2_17_x86_64.manylinux2014_x86_64.whl (130 kB)\n",
            "\u001b[2K     \u001b[90m━━━━━━━━━━━━━━━━━━━━━━━━━━━━━━━━━━━━━━━━\u001b[0m \u001b[32m130.2/130.2 kB\u001b[0m \u001b[31m16.0 MB/s\u001b[0m eta \u001b[36m0:00:00\u001b[0m\n",
            "\u001b[?25hRequirement already satisfied: cachetools<6.0,>=2.0.0 in /usr/local/lib/python3.10/dist-packages (from google-auth>=1.0.1->kubernetes>=28.1.0->chromadb) (5.3.3)\n",
            "Requirement already satisfied: pyasn1-modules>=0.2.1 in /usr/local/lib/python3.10/dist-packages (from google-auth>=1.0.1->kubernetes>=28.1.0->chromadb) (0.4.0)\n",
            "Requirement already satisfied: rsa<5,>=3.1.4 in /usr/local/lib/python3.10/dist-packages (from google-auth>=1.0.1->kubernetes>=28.1.0->chromadb) (4.9)\n",
            "Requirement already satisfied: filelock in /usr/local/lib/python3.10/dist-packages (from huggingface_hub<1.0,>=0.16.4->tokenizers>=0.13.2->chromadb) (3.13.4)\n",
            "Requirement already satisfied: fsspec>=2023.5.0 in /usr/local/lib/python3.10/dist-packages (from huggingface_hub<1.0,>=0.16.4->tokenizers>=0.13.2->chromadb) (2023.6.0)\n",
            "Requirement already satisfied: zipp>=0.5 in /usr/local/lib/python3.10/dist-packages (from importlib-metadata<=7.0,>=6.0->opentelemetry-api>=1.2.0->chromadb) (3.18.1)\n",
            "Requirement already satisfied: anyio<5,>=3.4.0 in /usr/local/lib/python3.10/dist-packages (from starlette<0.38.0,>=0.37.2->fastapi>=0.95.2->chromadb) (3.7.1)\n",
            "Collecting humanfriendly>=9.1 (from coloredlogs->onnxruntime>=1.14.1->chromadb)\n",
            "  Downloading humanfriendly-10.0-py2.py3-none-any.whl (86 kB)\n",
            "\u001b[2K     \u001b[90m━━━━━━━━━━━━━━━━━━━━━━━━━━━━━━━━━━━━━━━━\u001b[0m \u001b[32m86.8/86.8 kB\u001b[0m \u001b[31m12.3 MB/s\u001b[0m eta \u001b[36m0:00:00\u001b[0m\n",
            "\u001b[?25hRequirement already satisfied: mpmath>=0.19 in /usr/local/lib/python3.10/dist-packages (from sympy->onnxruntime>=1.14.1->chromadb) (1.3.0)\n",
            "Requirement already satisfied: sniffio>=1.1 in /usr/local/lib/python3.10/dist-packages (from anyio<5,>=3.4.0->starlette<0.38.0,>=0.37.2->fastapi>=0.95.2->chromadb) (1.3.1)\n",
            "Requirement already satisfied: exceptiongroup in /usr/local/lib/python3.10/dist-packages (from anyio<5,>=3.4.0->starlette<0.38.0,>=0.37.2->fastapi>=0.95.2->chromadb) (1.2.0)\n",
            "Requirement already satisfied: pyasn1<0.7.0,>=0.4.6 in /usr/local/lib/python3.10/dist-packages (from pyasn1-modules>=0.2.1->google-auth>=1.0.1->kubernetes>=28.1.0->chromadb) (0.6.0)\n",
            "Building wheels for collected packages: pypika\n",
            "  Building wheel for pypika (pyproject.toml) ... \u001b[?25l\u001b[?25hdone\n",
            "  Created wheel for pypika: filename=PyPika-0.48.9-py2.py3-none-any.whl size=53724 sha256=d630e04d591e4ed49f66aedaa84047d25e6a75aaefde4ac73a1087ed82ed6f44\n",
            "  Stored in directory: /root/.cache/pip/wheels/e1/26/51/d0bffb3d2fd82256676d7ad3003faea3bd6dddc9577af665f4\n",
            "Successfully built pypika\n",
            "Installing collected packages: pypika, monotonic, mmh3, websockets, uvloop, python-dotenv, pulsar-client, overrides, orjson, opentelemetry-util-http, opentelemetry-semantic-conventions, opentelemetry-proto, importlib-metadata, humanfriendly, httptools, h11, deprecated, chroma-hnswlib, bcrypt, backoff, asgiref, watchfiles, uvicorn, starlette, posthog, opentelemetry-exporter-otlp-proto-common, opentelemetry-api, coloredlogs, opentelemetry-sdk, opentelemetry-instrumentation, onnxruntime, kubernetes, fastapi, opentelemetry-instrumentation-asgi, opentelemetry-exporter-otlp-proto-grpc, opentelemetry-instrumentation-fastapi, chromadb\n",
            "  Attempting uninstall: importlib-metadata\n",
            "    Found existing installation: importlib_metadata 7.1.0\n",
            "    Uninstalling importlib_metadata-7.1.0:\n",
            "      Successfully uninstalled importlib_metadata-7.1.0\n",
            "Successfully installed asgiref-3.8.1 backoff-2.2.1 bcrypt-4.1.2 chroma-hnswlib-0.7.3 chromadb-0.4.24 coloredlogs-15.0.1 deprecated-1.2.14 fastapi-0.110.1 h11-0.14.0 httptools-0.6.1 humanfriendly-10.0 importlib-metadata-7.0.0 kubernetes-29.0.0 mmh3-4.1.0 monotonic-1.6 onnxruntime-1.17.3 opentelemetry-api-1.24.0 opentelemetry-exporter-otlp-proto-common-1.24.0 opentelemetry-exporter-otlp-proto-grpc-1.24.0 opentelemetry-instrumentation-0.45b0 opentelemetry-instrumentation-asgi-0.45b0 opentelemetry-instrumentation-fastapi-0.45b0 opentelemetry-proto-1.24.0 opentelemetry-sdk-1.24.0 opentelemetry-semantic-conventions-0.45b0 opentelemetry-util-http-0.45b0 orjson-3.10.1 overrides-7.7.0 posthog-3.5.0 pulsar-client-3.5.0 pypika-0.48.9 python-dotenv-1.0.1 starlette-0.37.2 uvicorn-0.29.0 uvloop-0.19.0 watchfiles-0.21.0 websockets-12.0\n"
          ]
        }
      ]
    },
    {
      "cell_type": "code",
      "execution_count": 3,
      "metadata": {
        "id": "jtb2Ze3kc4ge"
      },
      "outputs": [],
      "source": [
        "import pandas as pd\n",
        "import numpy as np\n",
        "import chromadb\n",
        "import catboost\n",
        "import seaborn as sns\n",
        "import matplotlib.pyplot as plt\n",
        "from sklearn.model_selection import train_test_split\n",
        "from sklearn.metrics import confusion_matrix"
      ]
    },
    {
      "cell_type": "markdown",
      "metadata": {
        "id": "8b7bef09-9e86-4b19-bbb7-e0ccb7515328"
      },
      "source": [
        "# Работа с данными"
      ]
    },
    {
      "cell_type": "code",
      "execution_count": 4,
      "metadata": {
        "id": "32c8b1b0-f95e-4cb5-bbc1-c0edb76568c1"
      },
      "outputs": [],
      "source": [
        "train_path = \"/content/drive/MyDrive/Alfa FinU Hack/train_data.pqt\".replace('\\t', '')\n",
        "train_df = pd.read_parquet(train_path)"
      ]
    },
    {
      "cell_type": "code",
      "execution_count": 5,
      "metadata": {
        "colab": {
          "base_uri": "https://localhost:8080/"
        },
        "id": "siZ3zc4IaC7M",
        "outputId": "ac83b317-d11c-4ac0-f203-d0e49d36565f"
      },
      "outputs": [
        {
          "output_type": "execute_result",
          "data": {
            "text/plain": [
              "id                              0\n",
              "date                            0\n",
              "balance_amt_avg             65577\n",
              "balance_amt_max             65577\n",
              "balance_amt_min             65577\n",
              "                            ...  \n",
              "sum_cred_h_oper_3m              0\n",
              "cnt_cred_h_oper_3m         165252\n",
              "cnt_days_cred_h_oper_3m    165252\n",
              "start_cluster                   0\n",
              "end_cluster                     0\n",
              "Length: 93, dtype: int64"
            ]
          },
          "metadata": {},
          "execution_count": 5
        }
      ],
      "source": [
        "train_df.isna().sum()"
      ]
    },
    {
      "cell_type": "markdown",
      "metadata": {
        "id": "0ZfNmW6QYv4W"
      },
      "source": [
        "##Мини анализ данных"
      ]
    },
    {
      "cell_type": "markdown",
      "metadata": {
        "id": "8CnR1snA8fee"
      },
      "source": [
        "кол-во классов"
      ]
    },
    {
      "cell_type": "code",
      "execution_count": 6,
      "metadata": {
        "colab": {
          "base_uri": "https://localhost:8080/"
        },
        "id": "JCuhWHsC9I0k",
        "outputId": "d3c1a39c-1c89-4205-afab-5ae7f514aaaa"
      },
      "outputs": [
        {
          "output_type": "execute_result",
          "data": {
            "text/plain": [
              "start_cluster\n",
              "{α}          375947\n",
              "{}            78803\n",
              "{α, η}        43824\n",
              "{α, γ}        32790\n",
              "{other}       31813\n",
              "{α, β}         9869\n",
              "{α, δ}         8537\n",
              "{α, ε}         5843\n",
              "{α, θ}         4968\n",
              "{α, ψ}         3000\n",
              "{α, μ}         1341\n",
              "{α, ε, η}      1207\n",
              "{α, ε, θ}       851\n",
              "{α, λ}          739\n",
              "{α, ε, ψ}       374\n",
              "{λ}              69\n",
              "{α, π}           25\n",
              "Name: count, dtype: int64"
            ]
          },
          "metadata": {},
          "execution_count": 6
        }
      ],
      "source": [
        "train_df['start_cluster'].value_counts()"
      ]
    },
    {
      "cell_type": "code",
      "execution_count": 7,
      "metadata": {
        "colab": {
          "base_uri": "https://localhost:8080/",
          "height": 497
        },
        "id": "xBXlMcok8i80",
        "outputId": "8b4a577c-8e47-4b41-d5bc-c213445c6c4c"
      },
      "outputs": [
        {
          "output_type": "display_data",
          "data": {
            "text/plain": [
              "<Figure size 640x480 with 1 Axes>"
            ],
            "image/png": "[encoded data removed]"
          },
          "metadata": {}
        }
      ],
      "source": [
        "train_df['start_cluster'].value_counts().plot(kind='bar');"
      ]
    },
    {
      "cell_type": "code",
      "execution_count": 8,
      "metadata": {
        "colab": {
          "base_uri": "https://localhost:8080/"
        },
        "id": "XCp4iNiYPGSo",
        "outputId": "ca8809d2-5f4c-4dc9-de50-0f3a6d167ee3"
      },
      "outputs": [
        {
          "output_type": "stream",
          "name": "stdout",
          "text": [
            "{other} {α} {α, γ} {} {α, ε} {α, β} {α, η} {α, μ} {α, ψ} {α, λ} {α, δ} {α, θ} {α, ε, θ} {α, ε, ψ} {α, ε, η} {λ} {α, π}\n"
          ]
        }
      ],
      "source": [
        "classes=train_df['end_cluster'].unique()\n",
        "print(*classes)"
      ]
    },
    {
      "cell_type": "markdown",
      "metadata": {
        "id": "akr1CvbxabKa"
      },
      "source": [
        "##Обработка данных"
      ]
    },
    {
      "cell_type": "markdown",
      "metadata": {
        "id": "IZiIpNOXtIee"
      },
      "source": [
        "###Переменные"
      ]
    },
    {
      "cell_type": "code",
      "execution_count": 9,
      "metadata": {
        "id": "VUdK9BRHgemG"
      },
      "outputs": [],
      "source": [
        "#категориальные признаки\n",
        "cat_cols = [\n",
        "    \"channel_code\", \"city\", \"city_type\",\n",
        "    \"okved\", \"segment\", \"start_cluster\",\n",
        "    \"index_city_code\", \"ogrn_month\", \"ogrn_year\",\n",
        "]"
      ]
    },
    {
      "cell_type": "code",
      "execution_count": 10,
      "metadata": {
        "id": "39QYTFs9-nSM"
      },
      "outputs": [],
      "source": [
        "#Столбцы для обработки некоторомыми фунциями (названия столбцов вынесены, чтобы пользователь мог регулировать обработку + если вы решите изменить название столбцов нужно будет это отобразить только здесь)\n",
        "select_dict={\n",
        "    'list_operations': ['cnt_a_oper_1m', 'cnt_b_oper_1m', 'cnt_c_oper_1m'],\n",
        "    'list_incoming_operations':['cnt_cred_d_oper_1m', 'cnt_cred_e_oper_1m', 'cnt_cred_f_oper_1m', 'cnt_cred_g_oper_1m', 'cnt_cred_h_oper_1m'],#список входящих операций\n",
        "    'list_outgoing_operations': ['cnt_deb_d_oper_1m', 'cnt_deb_e_oper_1m', 'cnt_deb_f_oper_1m', 'cnt_deb_g_oper_1m', 'cnt_deb_h_oper_1m'],#список исходящих операций\n",
        "    'list_operations_summi':['sum_a_oper_1m', 'sum_b_oper_1m', 'sum_c_oper_1m']#список сумм A,B,C операций\n",
        "}"
      ]
    },
    {
      "cell_type": "markdown",
      "metadata": {
        "id": "zKeZmXVB8RU7"
      },
      "source": [
        "список признаков для удаления"
      ]
    },
    {
      "cell_type": "code",
      "execution_count": 11,
      "metadata": {
        "id": "LF1xaisAMi7H"
      },
      "outputs": [],
      "source": [
        "drop_list=['cnt_deb_g_oper_3m_3',\n",
        " 'cnt_cred_g_oper_3m_3',\n",
        " 'cnt_days_cred_g_oper_3m_3',\n",
        " 'cnt_cred_h_oper_3m_3',\n",
        " 'ogrn_days_end_quarter_mean',\n",
        " 'cnt_b_oper_1m_mean',\n",
        " 'sum_cred_d_oper_1m_mean',\n",
        " 'cnt_days_cred_g_oper_1m_mean',\n",
        " 'cnt_deb_d_oper_3m_mean',\n",
        " 'cnt_cred_d_oper_3m_mean',\n",
        " 'sum_cred_f_oper_3m_mean',\n",
        " 'cnt_days_cred_f_oper_3m_mean',\n",
        " 'cnt_a_oper_1m_sum',\n",
        " 'cnt_b_oper_1m_sum',\n",
        " 'sum_of_paym_2m_hide_1',\n",
        " 'sum_of_paym_6m_hide_1',\n",
        " 'sum_of_paym_1y_hide_1',\n",
        " 'city_1',\n",
        " 'sum_of_paym_1y_hide_2',\n",
        " 'city_2',\n",
        " 'city_type_2',\n",
        " 'cnt_cred_f_oper_3m_2',\n",
        " 'sum_of_paym_2m_hide_3',\n",
        " 'sum_of_paym_6m_hide_3',\n",
        " 'sum_of_paym_1y_hide_3',\n",
        " 'city_type_3']"
      ]
    },
    {
      "cell_type": "markdown",
      "metadata": {
        "id": "fd-AuKt2UxFv"
      },
      "source": [
        "###Фунции для заполнения NaN значений"
      ]
    },
    {
      "cell_type": "code",
      "execution_count": 12,
      "metadata": {
        "id": "jDTvxHJFmT3s"
      },
      "outputs": [],
      "source": [
        "#самое простое заполнение NaN (не используется)\n",
        "def simple_fill(df,cat_cols):\n",
        "  val_cols = df.select_dtypes(include = [\"int64\", \"float64\"])\n",
        "  #считаем среднее значение по столбцам для каждой группы\n",
        "  #где не смогли посчитать среднее значение заменяем на 0\n",
        "  df[val_cols.columns] = df[val_cols.columns].fillna(0)\n",
        "  df.fillna('', inplace=True)\n",
        "  return df\n",
        "\n",
        "#заменяем все NaN в числовых столбцах на среднее значение по столбцам для каждой группы\n",
        "def smart_fill_na(full_df, num_month):\n",
        "  #берем только числовые столбцы\n",
        "  df = full_df.select_dtypes(include = [\"int64\", \"float64\"])\n",
        "  #считаем среднее значение по столбцам для каждой группы\n",
        "  mean_df = (df.groupby('id').max() + df.groupby('id').min())/2\n",
        "  #где не смогли посчитать среднее значение заменяем на 0\n",
        "  mean_df = mean_df.reset_index().fillna(0)\n",
        "  #дублируем строки несколько раз\n",
        "  mean_df = mean_df.loc[mean_df.index.repeat(num_month)].reset_index(drop=True)\n",
        "  #заменяем все NaN на среднее значение по столбцам для каждой группы\n",
        "  mask_fill_na = df.isna()*mean_df\n",
        "  #объединяем с исходной таблицой, так чтобы на месте всех NaN стояли средние значения по маске\n",
        "  new_val_columns = df.fillna(0)+mask_fill_na\n",
        "\n",
        "  #full_df.update(new_df)\n",
        "  return new_val_columns\n",
        "\n"
      ]
    },
    {
      "cell_type": "code",
      "execution_count": 13,
      "metadata": {
        "id": "r_-YrdT128Ew"
      },
      "outputs": [],
      "source": [
        "#заполнение пропущенных строк в тестовом датасете\n",
        "def fill_spaces(test_df):\n",
        "  month_count=len(test_df['date'].unique())\n",
        "  users_count=len(test_df['id'].unique())\n",
        "\n",
        "  rows = sorted(np.repeat(test_df['id'].unique(),month_count))\n",
        "  columns = ['id', 'date']# test_df.columns\n",
        "  dates=list(test_df['date'].unique())*users_count\n",
        "\n",
        "  # Создание DataFrame с пустыми строками\n",
        "  empty_df = pd.DataFrame('', index=range(len(rows)), columns=columns)\n",
        "  empty_df['id']=rows\n",
        "  empty_df['date']=dates\n",
        "\n",
        "  # Заполнение пробелов в test_df\n",
        "  merged_df = pd.merge(empty_df, test_df, on=['id', 'date'], how='left')\n",
        "  return merged_df"
      ]
    },
    {
      "cell_type": "code",
      "execution_count": 14,
      "metadata": {
        "id": "a1ZmIPF5UwU_"
      },
      "outputs": [],
      "source": [
        "#Создание векторной бд для поиска схожих строчек и заполнения пропусков\n",
        "def create_db(good_df_arr):\n",
        "  ids=[str(x) for x in range(len(good_df_arr))]\n",
        "  client = chromadb.Client()\n",
        "  print('good_df_arr:',good_df_arr.shape)\n",
        "\n",
        "  try:\n",
        "    client.delete_collection(name=\"all-my-documents\")\n",
        "  except:\n",
        "    pass\n",
        "  collection = client.create_collection(\"all-my-documents\")\n",
        "\n",
        "  collection.add(\n",
        "      embeddings=good_df_arr,\n",
        "      ids=ids\n",
        "  )\n",
        "  return collection\n",
        "\n",
        "#Ищет похожих пользователей в базе данных (эмбединги пользователей состоят из числовых признаков, и чем они ближе - тем ближе пользователи)\n",
        "def get_simularity_samples(collection,bad_rows_arr):\n",
        "\n",
        "\n",
        "  print('bad_rows_arr:',bad_rows_arr.shape)\n",
        "  results = collection.query(\n",
        "      query_embeddings=bad_rows_arr,\n",
        "      n_results=2,\n",
        "\n",
        "  )\n",
        "  return results\n"
      ]
    },
    {
      "cell_type": "code",
      "execution_count": 15,
      "metadata": {
        "id": "c4Xl4wka9_8O"
      },
      "outputs": [],
      "source": [
        "#заполняет пустые числовые и категориальные значения\n",
        "def preprocessing_min(df, cat_cols, num_month):\n",
        "  #заполнение пустых числовых значений\n",
        "  new_val_columns=smart_fill_na(df, num_month)\n",
        "  df.update(new_val_columns)\n",
        "\n",
        "  df[cat_cols] = df[cat_cols].fillna('')\n",
        "  #заполнение пустых категориальных значений\n",
        "  df[cat_cols] = df[cat_cols].astype(\"category\")\n",
        "  return df\n",
        "\n",
        "#заполнять нулями значения, которые мы не смогли заполнить на прошлом этапе\n",
        "def preprocessing_simularity_fill(input_df, df_db):\n",
        "  df=input_df\n",
        "  df_for_db=df_db\n",
        "\n",
        "  df = df.drop('id', axis=1)\n",
        "  #берем только числовые столбцы\n",
        "  df = df.select_dtypes(include = [\"int64\", \"float64\"])\n",
        "\n",
        "  df_for_db = df_for_db.drop('id', axis=1)\n",
        "  #берем только числовые столбцы\n",
        "  df_for_db = df_for_db.select_dtypes(include = [\"int64\", \"float64\"])\n",
        "\n",
        "  #Находим идеальные строчки (сточки без единого NaN)\n",
        "  df.replace(0, np.nan, inplace=True)\n",
        "  df_for_db.replace(0, np.nan, inplace=True)\n",
        "\n",
        "  df_for_fill=df\n",
        "  good_df=df_for_db.dropna(axis=0)\n",
        "\n",
        "\n",
        "  #берем заданное количество идеальных строчек\n",
        "  good_df=good_df.sample(40000)\n",
        "  good_df_arr=np.array(good_df.values)\n",
        "\n",
        "\n",
        "  #берем строки, в которых содержится NaN\n",
        "  bad_rows=df_for_fill[df_for_fill.isna().any(axis=1)]\n",
        "  bad_rows_arr=bad_rows.fillna(0)\n",
        "  index_list = bad_rows_arr.index.tolist()\n",
        "  bad_rows_arr = np.array(bad_rows_arr.values)\n",
        "\n",
        "  #для каждой строки с пропущеным значением находим схожую\n",
        "  collection = create_db(good_df_arr)\n",
        "  results=get_simularity_samples(collection,bad_rows_arr)\n",
        "  #жадно берем самую ближайшую строку из идеальных строк для каждой плохой строки\n",
        "  idx=np.array(results['ids'])[:, 0]\n",
        "  good_values_df = good_df.iloc[idx]\n",
        "\n",
        "\n",
        "  #Заменяем все NaN значения из плохих строк на значения (стоящие в том же столбце) из идеальных строк. И так для кажой плохой строки\n",
        "  bad_rows_idxs=bad_rows.index.tolist()\n",
        "  good_values_df=good_values_df.set_index(pd.Index(bad_rows_idxs))\n",
        "  good_values_df.replace(0, np.nan, inplace=True)\n",
        "  good_values_df=good_values_df.dropna(axis=0)\n",
        "  bad_rows=bad_rows.fillna(good_values_df)\n",
        "\n",
        "\n",
        "  #Встраивание обработанных строк в исходную таблицу\n",
        "  input_df.update(bad_rows)\n",
        "  return input_df"
      ]
    },
    {
      "cell_type": "markdown",
      "metadata": {
        "id": "9kFyKVO2WWFq"
      },
      "source": [
        "###Фунции для генерации фичей"
      ]
    },
    {
      "cell_type": "code",
      "execution_count": 16,
      "metadata": {
        "id": "QPM5MpgmMihI"
      },
      "outputs": [],
      "source": [
        "#считает среднее значение по всем числовы характеристикам среди месяцев\n",
        "def meaning(df):\n",
        "  new_df = df.select_dtypes(include = [\"int64\", \"float64\"])\n",
        "  new_df['id']=df['id']\n",
        "  new_df = new_df.groupby(\"id\").mean(numeric_only = True)\n",
        "\n",
        "  #переименовка признаков\n",
        "  rename_dict={}\n",
        "  for name in new_df.columns:\n",
        "    rename_dict[name]=f'{name}_mean'\n",
        "  new_df.rename(columns=rename_dict, inplace=True)\n",
        "\n",
        "  return new_df\n",
        "\n",
        "#создание подпоследовательностей для каждого пользователя\n",
        "def do_sublist(df, windows):\n",
        "  # Получаем подсписки\n",
        "  sublists = [group.tolist() for group in df['start_cluster'].rolling(window=windows)]\n",
        "\n",
        "  # Убираем первые windows - 1 элементов, так как они содержат NaN и делаем срез шагом windows\n",
        "  sublists = sublists[windows-1:]\n",
        "  sublists = sublists[::windows]\n",
        "  return sublists\n",
        "\n",
        "#считает очень быстро, но не точно\n",
        "def light_check_change_clusters(df):\n",
        "  unique_counts = df.groupby('id')['start_cluster'].nunique()-1\n",
        "  unique_counts.name='change_clusters'\n",
        "  return unique_counts\n",
        "\n",
        "#подсчет сколько раз пользователь менял свой кластер\n",
        "def check_change_clusters(df, month_to_predict, light_varsion = True):\n",
        "  #Избавляемся от месяца для предсказаний и сохраняем в список столбец id\n",
        "  df = df.drop(df[df['date'] == month_to_predict].index)\n",
        "\n",
        "  if light_varsion : return light_check_change_clusters(df)\n",
        "\n",
        "  id_pole = list(df['id'])\n",
        "\n",
        "  #Вызов функции для разбития start_cluster на подсписки\n",
        "  sublists = do_sublist(df, 2)\n",
        "\n",
        "  #формируем словарь из кластеров продуктов и булевых значений чтобы понять менел ли пользователь свой продукт при переходе в новый месяц\n",
        "  dict_start_cluster = {'cluster':[k for group in sublists for k in group], 'change_clusters':[]}\n",
        "\n",
        "  #Заполняем словарь булевых значений\n",
        "  for group in sublists:\n",
        "    for i in range(0, len(group)-1):\n",
        "      if group[i] != group[i+1]:\n",
        "        dict_start_cluster['change_clusters'].append(True)\n",
        "      else:\n",
        "        dict_start_cluster['change_clusters'].append(False)\n",
        "    dict_start_cluster['change_clusters'].append(False)\n",
        "\n",
        "  #Формируем DataFrame из словаря\n",
        "  df = pd.DataFrame.from_dict(dict_start_cluster)\n",
        "  df['id'] = id_pole\n",
        "\n",
        "  df= df.groupby('id')['change_clusters'].sum()\n",
        "\n",
        "  #df= df['change_clusters'].apply(str).astype(\"category\")\n",
        "  return df\n",
        "\n",
        "\n",
        "def rename_columns(old_names, idx_month):\n",
        "  new_names={}\n",
        "  for old_name in old_names:\n",
        "    new_names[old_name]=old_name+\"_\"+str(idx_month)\n",
        "  return new_names\n",
        "\n",
        "#Объедениение всех месяцев в одну строку\n",
        "def concat_names(df, test_mode, num_month):\n",
        "\n",
        "  if test_mode:\n",
        "    start_month=num_month+1\n",
        "    drop_arr=['date']\n",
        "    return pd.concat([df[df['date']==f'month_{x}'].set_index('id').drop(drop_arr, axis=1).rename(rename_columns(df.columns, x-num_month), axis=1) for x in range(start_month, start_month+num_month)], axis=1)\n",
        "  else:\n",
        "    drop_arr=['date', 'end_cluster']\n",
        "    start_month=1\n",
        "    return pd.concat([df[df['date']==f'month_{x}'].set_index('id').drop(drop_arr, axis=1).rename(rename_columns(df.columns, x), axis=1) for x in range(start_month, start_month+num_month)], axis=1)\n",
        "\n",
        "  return new_df\n",
        "\n",
        "def drop_useless_columns(new_df, df, num_month):\n",
        "  new_df = new_df.drop([f'start_cluster_{num_month}'], axis=1)\n",
        "  return new_df\n",
        "\n",
        "#смотрит скрывает ли клиент статистику по определеннвм столбцам\n",
        "def check_hide_payment(df):\n",
        "  list_of_payment=['sum_of_paym_2m','sum_of_paym_6m','sum_of_paym_1y']\n",
        "  rename_dict={}\n",
        "  for x in list_of_payment:\n",
        "    rename_dict[x]=f'{x}_hide'\n",
        "  hide_payment = df[list_of_payment]==0\n",
        "  hide_payment = hide_payment.rename(rename_dict, axis=1)\n",
        "  #hide_payment['id']=df['id']\n",
        "  return hide_payment\n",
        "\n",
        "\n",
        "\n"
      ]
    },
    {
      "cell_type": "code",
      "execution_count": 17,
      "metadata": {
        "id": "R3bDQ9n3VJNs"
      },
      "outputs": [],
      "source": [
        "#подсчет кол-ва операций A,B,C за месяца и их общее кол-во\n",
        "def sum_abc(df, list_operations):\n",
        "  dict_for_column={old:f'{old}_sum' for old in list_operations}\n",
        "  list_operations2 = list(dict_for_column.keys())\n",
        "  list_operations2.append('id')\n",
        "  df = df[list_operations2]\n",
        "\n",
        "\n",
        "  #Подсчет суммы количества операций за месяца\n",
        "  new_dff = df.groupby('id').sum().rename(dict_for_column, axis=1)\n",
        "\n",
        "  #Сумма abc\n",
        "  new_dff['sum_operations'] = new_dff[new_dff.columns].sum(axis=1)\n",
        "\n",
        "  return new_dff\n",
        "\n",
        "def sum_incoming_operations(df, list_incoming_operations):\n",
        "  #Создание словаря для смены названия колонок\n",
        "  dict_for_column={old:f'{old}_sum' for old in list_incoming_operations}\n",
        "  list_incoming_operations2 = list(dict_for_column.keys())\n",
        "  list_incoming_operations2.append('id')\n",
        "  df = df[list_incoming_operations2]\n",
        "\n",
        "  #Подсчет суммы количества входящих операций за 3 месяца\n",
        "  df = df.groupby('id').sum().rename(dict_for_column, axis=1)\n",
        "\n",
        "  #Подсчет суммы количества входящих операций D,E,F,G,H\n",
        "  df['sum_incoming_operations'] = df[df.columns].sum(axis=1)\n",
        "  return df\n",
        "\n",
        "def sum_outgoing_operations(df, list_outgoing_operations):\n",
        "  #Создание словаря для смены названия колонок\n",
        "  dict_for_column={old:f'{old}_sum' for old in list_outgoing_operations}\n",
        "  list_outgoing_operations2 = list(dict_for_column.keys())\n",
        "  list_outgoing_operations2.append('id')\n",
        "  df = df[list_outgoing_operations2]\n",
        "\n",
        "  #Подсчет суммы количества входящих операций за 3 месяца\n",
        "  df = df.groupby('id').sum().rename(dict_for_column, axis=1)\n",
        "\n",
        "  #Подсчет суммы количества исходящих операций D,E,F,G,H\n",
        "  df['sum_outgoing_operations'] = df[df.columns].sum(axis=1)\n",
        "  return df\n",
        "\n",
        "#Подсчет суммы сумм операций A,B,C\n",
        "def sum_operations_summi(df, list_operations_summi):\n",
        "  #Создание словаря для смены названия колонок\n",
        "  dict_for_column={old:f'{old}_sum' for old in ['sum_a_oper_1m', 'sum_b_oper_1m', 'sum_c_oper_1m']}\n",
        "  list_incoming_operations2 = list(dict_for_column.keys())\n",
        "  list_incoming_operations2.append('id')\n",
        "  df = df[list_incoming_operations2]\n",
        "\n",
        "  #Подсчет суммы суммы A,B,C операций за 3 месяца\n",
        "  dff = df.groupby('id').sum().rename(dict_for_column, axis=1)\n",
        "\n",
        "  #Подсчет суммы суммы A,B,C операций\n",
        "  dff['sum_operations_summi'] = dff[dff.columns].sum(axis=1)\n",
        "  return dff\n",
        "\n",
        "def ratio_of_summi_to_sum_operations(df):\n",
        "  sum_operations_summi = df['sum_operations_summi'].values\n",
        "  sum_operations = df['sum_operations'].values\n",
        "\n",
        "  ratios = np.where(sum_operations != 0, sum_operations_summi / sum_operations, 0)\n",
        "\n",
        "  return pd.DataFrame(ratios, columns=['ratio_of_summi_to_sum_operations'])\n",
        "\n",
        "#Отношение входящих к исходящим операциям\n",
        "def ratio_of_incoming_to_outgoin_operations(df):\n",
        "  return pd.DataFrame(df.apply(lambda row: row['sum_incoming_operations'] / row['sum_outgoing_operations'] if row['sum_outgoing_operations'] != 0 else 0, axis=1), columns=['ratio_incoming_to_outgoin_operations'])\n",
        "\n",
        "#Отношение sum_cred_e_oper_1m к sum_deb_h_oper_1m\n",
        "def ratio_cred_e_to_deb_h(df):\n",
        "  return pd.DataFrame(df.apply(lambda row: row['sum_cred_e_oper_1m_mean'] * row['sum_deb_h_oper_1m_1'], axis=1), columns=['sum_cred_e_oper_1m_mean * sum_deb_h_oper_1m_1'])\n",
        "\n",
        "#Отношение min_founderpres к max_founderpres\n",
        "def ratio_minfound_to_maxfound(df):\n",
        "  return pd.DataFrame(df.apply(lambda row: row['min_founderpres_1'] / row['max_founderpres_1'] if row['max_founderpres_1'] != 0 else 0, axis=1), columns=['min_founderpres_1 / max_founderpres_1'])"
      ]
    },
    {
      "cell_type": "code",
      "execution_count": 18,
      "metadata": {
        "id": "lkh70hMWSY51"
      },
      "outputs": [],
      "source": [
        "#выполнение различных операций над некоторыми столбцами\n",
        "def analise_operations(df, new_df, select_dict):\n",
        "\n",
        "  #подсчет кол-ва операций A,B,C за месяца и их общее кол-во\n",
        "  new_df = pd.concat((new_df, sum_abc(df, select_dict['list_operations'])), axis=1)\n",
        "\n",
        "  #подсчет исходящих кол-ва операций D,E,F,G,H за месяца и их общее кол-во\n",
        "  new_df = pd.concat((new_df, sum_incoming_operations(df, select_dict['list_incoming_operations'])), axis=1)\n",
        "\n",
        "  #подсчет входящих кол-ва операций D,E,F,G,H за месяца и их общее кол-во\n",
        "  new_df = pd.concat((new_df, sum_outgoing_operations(df, select_dict['list_outgoing_operations'])), axis=1)\n",
        "\n",
        "  #подсчет суммы сумм операций A,B,C за месяца и их общая сумма\n",
        "  new_df = pd.concat((new_df,sum_operations_summi(df, select_dict['list_operations_summi'])), axis=1)\n",
        "\n",
        "  #Подсчет отношения входящих к исходящим операциям\n",
        "  new_df = pd.concat((new_df, ratio_of_incoming_to_outgoin_operations(new_df)), axis=1)\n",
        "\n",
        "  #Подсчет отношения суммы A,B,C к кол-ву операции A,B,C\n",
        "  new_df = pd.concat((new_df, ratio_of_summi_to_sum_operations(new_df)), axis=1)\n",
        "\n",
        "  new_df = pd.concat((new_df, ratio_cred_e_to_deb_h(new_df)), axis=1)\n",
        "\n",
        "  new_df = pd.concat((new_df, ratio_minfound_to_maxfound(new_df)), axis=1)\n",
        "  return new_df"
      ]
    },
    {
      "cell_type": "code",
      "execution_count": 19,
      "metadata": {
        "id": "cTQy_7Oo6aE5"
      },
      "outputs": [],
      "source": [
        "#Отношение минимального к среднему остатку на счету\n",
        "def ratio_of_min_to_avg_operations(df):\n",
        "  return pd.DataFrame(df.apply(lambda row: row['balance_amt_min'] / row['balance_amt_avg'] if row['balance_amt_avg'] != 0 else 0, axis=1), columns=['ratio_of_min_to_avg_operations'])\n",
        "\n",
        "#Отношение максимального к среднему остатку на счету\n",
        "def ratio_of_max_to_avg_operations(df):\n",
        "  return pd.DataFrame(df.apply(lambda row: row['balance_amt_max'] / row['balance_amt_avg'] if row['balance_amt_avg'] != 0 else 0, axis=1), columns=['ratio_of_max_to_avg_operations'])\n",
        "\n"
      ]
    },
    {
      "cell_type": "markdown",
      "metadata": {
        "id": "RIImmPwNuJLg"
      },
      "source": [
        "##pipeline добавления всех фитч"
      ]
    },
    {
      "cell_type": "markdown",
      "metadata": {
        "id": "w6gCljChWelR"
      },
      "source": [
        "pipeline добавление всех фитч"
      ]
    },
    {
      "cell_type": "code",
      "execution_count": 20,
      "metadata": {
        "id": "b8lNKpLLWdva"
      },
      "outputs": [],
      "source": [
        "#фунция, объеденяющая остальные функции обработки и генерации фич\n",
        "def make_features(df, df_for_db, month_to_predict, cat_cols, select_dict, test_mode=False):\n",
        "\n",
        "  #кол-во месяцев для анализа\n",
        "  num_month=len(list(df['date'].unique()))\n",
        "\n",
        "  #заполнение пустых значений среднним значением по пользователю: считаем среднее значение по столбцам для каждой группы, где не смогли посчитать среднее значение заменяем на 0\n",
        "  df = preprocessing_min(df, cat_cols, num_month)\n",
        "  #df_for_db = preprocessing_min(df_for_db, cat_cols, num_month) - раскоментируйте, если хотите использовать бд для заполнения значений NaN значениям схожих пользователей (таких 2 строки)\n",
        "\n",
        "  #смотрит скрывает ли клиент статистику по определеннвм столбцам\n",
        "  df_1 = check_hide_payment(df)\n",
        "\n",
        "  #заполнение пустых  значений значениеми со схожих строк\n",
        "  #df = preprocessing_simularity_fill(df, df_for_db) - раскоментируйте, если хотите использовать бд для заполнения значений NaN значениям схожих пользователей (таких 2 строки)\n",
        "\n",
        "\n",
        "  df = pd.concat((df_1, df), axis=1)\n",
        "\n",
        "  #Объедениение всех месяцев в одну строку\n",
        "  new_df = concat_names(df,test_mode,num_month)\n",
        "\n",
        "  #считает среднее значение по всем числовы характеристикам среди 3 месяцев\n",
        "  new_df = pd.concat((new_df,meaning(df)), axis=1)\n",
        "\n",
        "  #подсчет сколько раз пользователь менял свой кластер\n",
        "  new_df = pd.concat((new_df,check_change_clusters(df, month_to_predict, light_varsion=True)), axis=1)\n",
        "\n",
        "  #подсчет кол-ва операций A,B,C за 3 месяца и их общее кол-во\n",
        "  new_df = pd.concat((new_df, sum_abc(df, select_dict['list_operations'])), axis=1)\n",
        "\n",
        "  #выбрасывание столбца start_cluster для последнего месеца\n",
        "  new_df = drop_useless_columns(new_df, df, num_month)\n",
        "\n",
        "\n",
        "\n",
        "  if not test_mode : new_df['end_cluster']=df[df['date']==month_to_predict][['end_cluster', 'id']].set_index('id')\n",
        "\n",
        "  #удаление лишних признаков\n",
        "  try:\n",
        "    new_df = new_df.drop(drop_list, axis=1)\n",
        "  except:\n",
        "    print('Столбцы для удаления не найдены в датафрейме. Обновите список drop_list')\n",
        "\n",
        "  return new_df"
      ]
    },
    {
      "cell_type": "code",
      "execution_count": 21,
      "metadata": {
        "id": "DfFG9krHYyXT"
      },
      "outputs": [],
      "source": [
        "#выравнивание кол-ва экземпляров класса по определенному числу (дальше это нужно для генерации базы данных)\n",
        "def equalize_classes2(df, classes, cut_value=20000):\n",
        "    counts_class = df['end_cluster'].value_counts()\n",
        "    new_df = pd.DataFrame()\n",
        "\n",
        "    for class_ in classes:\n",
        "        all_samples_class = df[df['end_cluster'] == class_]\n",
        "\n",
        "        if counts_class[class_] > cut_value:\n",
        "            new_df = pd.concat([new_df, all_samples_class.sample(cut_value, replace=True)], ignore_index=True)\n",
        "        else:\n",
        "            new_df = pd.concat([new_df, all_samples_class.sample(cut_value, replace=True)], ignore_index=True)\n",
        "\n",
        "    return new_df"
      ]
    },
    {
      "cell_type": "markdown",
      "metadata": {
        "id": "mLuNW0nYWa9K"
      },
      "source": [
        "Обработка датасета"
      ]
    },
    {
      "cell_type": "code",
      "execution_count": 22,
      "metadata": {
        "colab": {
          "base_uri": "https://localhost:8080/"
        },
        "id": "nIxQXR8EZtqs",
        "outputId": "2514ee95-cc8b-4c8c-bf16-4bba54194620"
      },
      "outputs": [
        {
          "output_type": "execute_result",
          "data": {
            "text/plain": [
              "array(['{other}', '{α}', '{α, γ}', '{}', '{α, ε}', '{α, β}', '{α, η}',\n",
              "       '{α, μ}', '{α, ψ}', '{α, λ}', '{α, δ}', '{α, θ}', '{α, ε, θ}',\n",
              "       '{α, ε, ψ}', '{α, ε, η}', '{λ}', '{α, π}'], dtype=object)"
            ]
          },
          "metadata": {},
          "execution_count": 22
        }
      ],
      "source": [
        "classes=train_df['end_cluster'].unique()\n",
        "classes"
      ]
    },
    {
      "cell_type": "code",
      "execution_count": 23,
      "metadata": {
        "id": "2GTwoufusgvy"
      },
      "outputs": [],
      "source": [
        "#напишите месяц для которого хотите предсказывать end_cluster\n",
        "month_to_predict='month_3'"
      ]
    },
    {
      "cell_type": "code",
      "execution_count": 24,
      "metadata": {
        "id": "0Jtyls0kaoTP"
      },
      "outputs": [],
      "source": [
        "#Создает балансированную выборку из классов (служит для заполнения бд)\n",
        "df_db= equalize_classes2(train_df,classes)"
      ]
    },
    {
      "cell_type": "code",
      "execution_count": 25,
      "metadata": {
        "id": "HgZO5oGBOPRr"
      },
      "outputs": [],
      "source": [
        "\n",
        "#заполнение фичами\n",
        "train_df = make_features(train_df.copy(),df_db.copy(), month_to_predict, cat_cols, select_dict)"
      ]
    },
    {
      "cell_type": "markdown",
      "metadata": {
        "id": "_jnP604FFFZU"
      },
      "source": [
        "##Подготовка данных для обучения"
      ]
    },
    {
      "cell_type": "markdown",
      "metadata": {
        "id": "DCN4DEaNqjr2"
      },
      "source": [
        "Разделение датасета"
      ]
    },
    {
      "cell_type": "code",
      "execution_count": 26,
      "metadata": {
        "id": "GoXLDzHq9ptG"
      },
      "outputs": [],
      "source": [
        "df_train, df_val = train_test_split(train_df,test_size=0.2,random_state=42)\n",
        "#del train_df"
      ]
    },
    {
      "cell_type": "code",
      "execution_count": 27,
      "metadata": {
        "colab": {
          "base_uri": "https://localhost:8080/",
          "height": 487
        },
        "id": "1qtfu_Nd9bdK",
        "outputId": "94e503df-cfe3-4196-c204-c85ae795d275"
      },
      "outputs": [
        {
          "output_type": "display_data",
          "data": {
            "text/plain": [
              "<Figure size 640x480 with 2 Axes>"
            ],
            "image/png": "[encoded data removed]"
          },
          "metadata": {}
        }
      ],
      "source": [
        "plt.subplot(1, 2, 1)\n",
        "df_val['end_cluster'].value_counts().plot(kind='bar')\n",
        "plt.title(\"df_val histogramm\")\n",
        "plt.subplot(1, 2, 2)\n",
        "df_train['end_cluster'].value_counts().plot(kind='bar')\n",
        "plt.title(\"df_train histogramm\")\n",
        "plt.tight_layout()  # Этот метод позволяет избежать наложения элементов графиков\n",
        "plt.show()"
      ]
    },
    {
      "cell_type": "markdown",
      "metadata": {
        "id": "zci3Jaei1_3O"
      },
      "source": [
        "Веса классов"
      ]
    },
    {
      "cell_type": "code",
      "execution_count": 28,
      "metadata": {
        "id": "dNp4RlkbJmqE"
      },
      "outputs": [],
      "source": [
        "cluster_path = \"/content/drive/MyDrive/Alfa FinU Hack/cluster_weights.xlsx\".replace('\\t', '')\n",
        "cluster_weights = pd.read_excel(cluster_path).set_index(\"cluster\")\n",
        "weights_dict = cluster_weights[\"unnorm_weight\"].to_dict()"
      ]
    },
    {
      "cell_type": "code",
      "execution_count": 29,
      "metadata": {
        "id": "MF4jgiMZBYRG"
      },
      "outputs": [],
      "source": [
        "#функция для изменения весов классам\n",
        "def transform_weight(weights_dict, koef):\n",
        "  new_weights_dict={}\n",
        "  for key, val in weights_dict.items():\n",
        "    new_weights_dict[key]=val*koef\n",
        "  return new_weights_dict"
      ]
    },
    {
      "cell_type": "code",
      "execution_count": 30,
      "metadata": {
        "id": "yhJvKHOdBwbk",
        "colab": {
          "base_uri": "https://localhost:8080/"
        },
        "outputId": "53792341-43c1-46ee-fbea-f2772cae2b42"
      },
      "outputs": [
        {
          "output_type": "execute_result",
          "data": {
            "text/plain": [
              "{'{}': 1,\n",
              " '{α, ε, η}': 1,\n",
              " '{α, ε, θ}': 1,\n",
              " '{α, θ}': 1,\n",
              " '{α, π}': 1,\n",
              " '{α, ε}': 2,\n",
              " '{α, η}': 2,\n",
              " '{α, μ}': 2,\n",
              " '{α}': 2,\n",
              " '{λ}': 2,\n",
              " '{other}': 3,\n",
              " '{α, β}': 3,\n",
              " '{α, γ}': 3,\n",
              " '{α, δ}': 3,\n",
              " '{α, ε, ψ}': 3,\n",
              " '{α, λ}': 3,\n",
              " '{α, ψ}': 3}"
            ]
          },
          "metadata": {},
          "execution_count": 30
        }
      ],
      "source": [
        "weights_dict = transform_weight(weights_dict, 1)\n",
        "weights_dict"
      ]
    },
    {
      "cell_type": "markdown",
      "metadata": {
        "id": "vkyL_GYgNMCL"
      },
      "source": [
        "\n",
        "\n",
        "\n",
        "\n",
        "# Работа с моделью"
      ]
    },
    {
      "cell_type": "code",
      "execution_count": 31,
      "metadata": {
        "id": "2tk9_HmEe4Oh",
        "colab": {
          "base_uri": "https://localhost:8080/"
        },
        "outputId": "882104b1-69ef-4738-9ac7-4febe3ec037f"
      },
      "outputs": [
        {
          "output_type": "stream",
          "name": "stdout",
          "text": [
            "<class 'pandas.core.frame.DataFrame'>\n",
            "Index: 160000 entries, 153248 to 121958\n",
            "Columns: 339 entries, balance_amt_avg_1 to end_cluster\n",
            "dtypes: bool(2), category(22), float64(313), int64(1), object(1)\n",
            "memory usage: 390.8+ MB\n"
          ]
        }
      ],
      "source": [
        "df_train.info()"
      ]
    },
    {
      "cell_type": "markdown",
      "metadata": {
        "id": "c5yJ_UBA3Kaz"
      },
      "source": [
        "Подготовка данных"
      ]
    },
    {
      "cell_type": "code",
      "execution_count": 32,
      "metadata": {
        "id": "9cF9RWb36He2"
      },
      "outputs": [],
      "source": [
        "auxiliary_columns = [\"date\"]\n",
        "cat_features = list(df_train.select_dtypes(include=['category']).columns)"
      ]
    },
    {
      "cell_type": "code",
      "execution_count": 33,
      "metadata": {
        "id": "ajYNDhSDDDsd"
      },
      "outputs": [],
      "source": [
        "#словари для перевод класса в число и наоборот\n",
        "n2c={}\n",
        "c2n={}\n",
        "for i, class_ in enumerate(classes):\n",
        "  n2c[i]=class_\n",
        "  c2n[class_]=i"
      ]
    },
    {
      "cell_type": "code",
      "execution_count": 34,
      "metadata": {
        "id": "19LMMX5q6H22"
      },
      "outputs": [],
      "source": [
        "def class_to_num(s):\n",
        "  s=[c2n[x] for x in s]\n",
        "  return s\n",
        "\n",
        "def preprocess_data_part(data_part, c2n_bool = False):\n",
        "    #data_part = data_part.drop(auxiliary_columns, axis=1)\n",
        "\n",
        "    X = data_part.drop(['end_cluster'], axis=1)\n",
        "    y = data_part['end_cluster']\n",
        "    if c2n_bool : y = class_to_num(y)\n",
        "    return X, y\n",
        "\n",
        "X_train, y_train = preprocess_data_part(df_train)\n",
        "X_val, y_val = preprocess_data_part(df_val)\n",
        "\n"
      ]
    },
    {
      "cell_type": "code",
      "execution_count": 35,
      "metadata": {
        "colab": {
          "base_uri": "https://localhost:8080/",
          "height": 224
        },
        "id": "5Eip0xpXPrOh",
        "outputId": "2e3b4d40-d187-44d3-c53f-59f47df6e9a6"
      },
      "outputs": [
        {
          "output_type": "execute_result",
          "data": {
            "text/plain": [
              "        balance_amt_avg_1  balance_amt_max_1  balance_amt_min_1  \\\n",
              "id                                                                \n",
              "12413           -0.151411          -0.155701          -0.125516   \n",
              "166056          -0.081157          -0.109521          -0.125084   \n",
              "148591          -0.155957          -0.204134          -0.125514   \n",
              "\n",
              "        balance_amt_day_avg_1   channel_code_1  city_type_1  \\\n",
              "id                                                            \n",
              "12413               -0.150931   channel_code_9  city_type_0   \n",
              "166056              -0.115858   channel_code_6  city_type_0   \n",
              "148591              -0.155491  channel_code_18  city_type_0   \n",
              "\n",
              "         index_city_code_1  ogrn_days_end_month_1  ogrn_days_end_quarter_1  \\\n",
              "id                                                                           \n",
              "12413   index_city_code_21              -1.185321                -0.367365   \n",
              "166056                                  -1.649833                -1.722458   \n",
              "148591  index_city_code_57               1.253367                -0.754534   \n",
              "\n",
              "        ogrn_month_1  ... cnt_days_cred_g_oper_3m_mean  \\\n",
              "id                    ...                                \n",
              "12413   ogrn_month_4  ...                     0.407762   \n",
              "166056  ogrn_month_6  ...                     0.392436   \n",
              "148591  ogrn_month_6  ...                     0.384773   \n",
              "\n",
              "        sum_deb_h_oper_3m_mean  cnt_deb_h_oper_3m_mean  \\\n",
              "id                                                       \n",
              "12413                 0.704734                0.568669   \n",
              "166056               -0.000693                0.555916   \n",
              "148591               -0.165588                0.546889   \n",
              "\n",
              "        cnt_days_deb_h_oper_3m_mean  sum_cred_h_oper_3m_mean  \\\n",
              "id                                                             \n",
              "12413                      0.841020                -0.190766   \n",
              "166056                     0.566946                -0.158362   \n",
              "148591                     0.407687                -0.200760   \n",
              "\n",
              "       cnt_cred_h_oper_3m_mean cnt_days_cred_h_oper_3m_mean  change_clusters  \\\n",
              "id                                                                             \n",
              "12413                 0.251020                     0.378203                0   \n",
              "166056                0.253523                     0.473441                0   \n",
              "148591                0.251116                     0.381866                0   \n",
              "\n",
              "        cnt_c_oper_1m_sum  sum_operations  \n",
              "id                                         \n",
              "12413            1.652394        4.211444  \n",
              "166056           1.653803        4.217527  \n",
              "148591           1.652394        4.211444  \n",
              "\n",
              "[3 rows x 338 columns]"
            ],
            "text/html": [
              "\n",
              "  <div id=\"df-d99893be-2d8c-44cc-a85e-3f4cbf4e851a\" class=\"colab-df-container\">\n",
              "    <div>\n",
              "<style scoped>\n",
              "    .dataframe tbody tr th:only-of-type {\n",
              "        vertical-align: middle;\n",
              "    }\n",
              "\n",
              "    .dataframe tbody tr th {\n",
              "        vertical-align: top;\n",
              "    }\n",
              "\n",
              "    .dataframe thead th {\n",
              "        text-align: right;\n",
              "    }\n",
              "</style>\n",
              "<table border=\"1\" class=\"dataframe\">\n",
              "  <thead>\n",
              "    <tr style=\"text-align: right;\">\n",
              "      <th></th>\n",
              "      <th>balance_amt_avg_1</th>\n",
              "      <th>balance_amt_max_1</th>\n",
              "      <th>balance_amt_min_1</th>\n",
              "      <th>balance_amt_day_avg_1</th>\n",
              "      <th>channel_code_1</th>\n",
              "      <th>city_type_1</th>\n",
              "      <th>index_city_code_1</th>\n",
              "      <th>ogrn_days_end_month_1</th>\n",
              "      <th>ogrn_days_end_quarter_1</th>\n",
              "      <th>ogrn_month_1</th>\n",
              "      <th>...</th>\n",
              "      <th>cnt_days_cred_g_oper_3m_mean</th>\n",
              "      <th>sum_deb_h_oper_3m_mean</th>\n",
              "      <th>cnt_deb_h_oper_3m_mean</th>\n",
              "      <th>cnt_days_deb_h_oper_3m_mean</th>\n",
              "      <th>sum_cred_h_oper_3m_mean</th>\n",
              "      <th>cnt_cred_h_oper_3m_mean</th>\n",
              "      <th>cnt_days_cred_h_oper_3m_mean</th>\n",
              "      <th>change_clusters</th>\n",
              "      <th>cnt_c_oper_1m_sum</th>\n",
              "      <th>sum_operations</th>\n",
              "    </tr>\n",
              "    <tr>\n",
              "      <th>id</th>\n",
              "      <th></th>\n",
              "      <th></th>\n",
              "      <th></th>\n",
              "      <th></th>\n",
              "      <th></th>\n",
              "      <th></th>\n",
              "      <th></th>\n",
              "      <th></th>\n",
              "      <th></th>\n",
              "      <th></th>\n",
              "      <th></th>\n",
              "      <th></th>\n",
              "      <th></th>\n",
              "      <th></th>\n",
              "      <th></th>\n",
              "      <th></th>\n",
              "      <th></th>\n",
              "      <th></th>\n",
              "      <th></th>\n",
              "      <th></th>\n",
              "      <th></th>\n",
              "    </tr>\n",
              "  </thead>\n",
              "  <tbody>\n",
              "    <tr>\n",
              "      <th>12413</th>\n",
              "      <td>-0.151411</td>\n",
              "      <td>-0.155701</td>\n",
              "      <td>-0.125516</td>\n",
              "      <td>-0.150931</td>\n",
              "      <td>channel_code_9</td>\n",
              "      <td>city_type_0</td>\n",
              "      <td>index_city_code_21</td>\n",
              "      <td>-1.185321</td>\n",
              "      <td>-0.367365</td>\n",
              "      <td>ogrn_month_4</td>\n",
              "      <td>...</td>\n",
              "      <td>0.407762</td>\n",
              "      <td>0.704734</td>\n",
              "      <td>0.568669</td>\n",
              "      <td>0.841020</td>\n",
              "      <td>-0.190766</td>\n",
              "      <td>0.251020</td>\n",
              "      <td>0.378203</td>\n",
              "      <td>0</td>\n",
              "      <td>1.652394</td>\n",
              "      <td>4.211444</td>\n",
              "    </tr>\n",
              "    <tr>\n",
              "      <th>166056</th>\n",
              "      <td>-0.081157</td>\n",
              "      <td>-0.109521</td>\n",
              "      <td>-0.125084</td>\n",
              "      <td>-0.115858</td>\n",
              "      <td>channel_code_6</td>\n",
              "      <td>city_type_0</td>\n",
              "      <td></td>\n",
              "      <td>-1.649833</td>\n",
              "      <td>-1.722458</td>\n",
              "      <td>ogrn_month_6</td>\n",
              "      <td>...</td>\n",
              "      <td>0.392436</td>\n",
              "      <td>-0.000693</td>\n",
              "      <td>0.555916</td>\n",
              "      <td>0.566946</td>\n",
              "      <td>-0.158362</td>\n",
              "      <td>0.253523</td>\n",
              "      <td>0.473441</td>\n",
              "      <td>0</td>\n",
              "      <td>1.653803</td>\n",
              "      <td>4.217527</td>\n",
              "    </tr>\n",
              "    <tr>\n",
              "      <th>148591</th>\n",
              "      <td>-0.155957</td>\n",
              "      <td>-0.204134</td>\n",
              "      <td>-0.125514</td>\n",
              "      <td>-0.155491</td>\n",
              "      <td>channel_code_18</td>\n",
              "      <td>city_type_0</td>\n",
              "      <td>index_city_code_57</td>\n",
              "      <td>1.253367</td>\n",
              "      <td>-0.754534</td>\n",
              "      <td>ogrn_month_6</td>\n",
              "      <td>...</td>\n",
              "      <td>0.384773</td>\n",
              "      <td>-0.165588</td>\n",
              "      <td>0.546889</td>\n",
              "      <td>0.407687</td>\n",
              "      <td>-0.200760</td>\n",
              "      <td>0.251116</td>\n",
              "      <td>0.381866</td>\n",
              "      <td>0</td>\n",
              "      <td>1.652394</td>\n",
              "      <td>4.211444</td>\n",
              "    </tr>\n",
              "  </tbody>\n",
              "</table>\n",
              "<p>3 rows × 338 columns</p>\n",
              "</div>\n",
              "    <div class=\"colab-df-buttons\">\n",
              "\n",
              "  <div class=\"colab-df-container\">\n",
              "    <button class=\"colab-df-convert\" onclick=\"convertToInteractive('df-d99893be-2d8c-44cc-a85e-3f4cbf4e851a')\"\n",
              "            title=\"Convert this dataframe to an interactive table.\"\n",
              "            style=\"display:none;\">\n",
              "\n",
              "  <svg xmlns=\"http://www.w3.org/2000/svg\" height=\"24px\" viewBox=\"0 -960 960 960\">\n",
              "    <path d=\"M120-120v-720h720v720H120Zm60-500h600v-160H180v160Zm220 220h160v-160H400v160Zm0 220h160v-160H400v160ZM180-400h160v-160H180v160Zm440 0h160v-160H620v160ZM180-180h160v-160H180v160Zm440 0h160v-160H620v160Z\"/>\n",
              "  </svg>\n",
              "    </button>\n",
              "\n",
              "  <style>\n",
              "    .colab-df-container {\n",
              "      display:flex;\n",
              "      gap: 12px;\n",
              "    }\n",
              "\n",
              "    .colab-df-convert {\n",
              "      background-color: #E8F0FE;\n",
              "      border: none;\n",
              "      border-radius: 50%;\n",
              "      cursor: pointer;\n",
              "      display: none;\n",
              "      fill: #1967D2;\n",
              "      height: 32px;\n",
              "      padding: 0 0 0 0;\n",
              "      width: 32px;\n",
              "    }\n",
              "\n",
              "    .colab-df-convert:hover {\n",
              "      background-color: #E2EBFA;\n",
              "      box-shadow: 0px 1px 2px rgba(60, 64, 67, 0.3), 0px 1px 3px 1px rgba(60, 64, 67, 0.15);\n",
              "      fill: #174EA6;\n",
              "    }\n",
              "\n",
              "    .colab-df-buttons div {\n",
              "      margin-bottom: 4px;\n",
              "    }\n",
              "\n",
              "    [theme=dark] .colab-df-convert {\n",
              "      background-color: #3B4455;\n",
              "      fill: #D2E3FC;\n",
              "    }\n",
              "\n",
              "    [theme=dark] .colab-df-convert:hover {\n",
              "      background-color: #434B5C;\n",
              "      box-shadow: 0px 1px 3px 1px rgba(0, 0, 0, 0.15);\n",
              "      filter: drop-shadow(0px 1px 2px rgba(0, 0, 0, 0.3));\n",
              "      fill: #FFFFFF;\n",
              "    }\n",
              "  </style>\n",
              "\n",
              "    <script>\n",
              "      const buttonEl =\n",
              "        document.querySelector('#df-d99893be-2d8c-44cc-a85e-3f4cbf4e851a button.colab-df-convert');\n",
              "      buttonEl.style.display =\n",
              "        google.colab.kernel.accessAllowed ? 'block' : 'none';\n",
              "\n",
              "      async function convertToInteractive(key) {\n",
              "        const element = document.querySelector('#df-d99893be-2d8c-44cc-a85e-3f4cbf4e851a');\n",
              "        const dataTable =\n",
              "          await google.colab.kernel.invokeFunction('convertToInteractive',\n",
              "                                                    [key], {});\n",
              "        if (!dataTable) return;\n",
              "\n",
              "        const docLinkHtml = 'Like what you see? Visit the ' +\n",
              "          '<a target=\"_blank\" href=https://colab.research.google.com/notebooks/data_table.ipynb>data table notebook</a>'\n",
              "          + ' to learn more about interactive tables.';\n",
              "        element.innerHTML = '';\n",
              "        dataTable['output_type'] = 'display_data';\n",
              "        await google.colab.output.renderOutput(dataTable, element);\n",
              "        const docLink = document.createElement('div');\n",
              "        docLink.innerHTML = docLinkHtml;\n",
              "        element.appendChild(docLink);\n",
              "      }\n",
              "    </script>\n",
              "  </div>\n",
              "\n",
              "\n",
              "<div id=\"df-f4d9d915-2cbc-41df-8034-6f8ca4b580cf\">\n",
              "  <button class=\"colab-df-quickchart\" onclick=\"quickchart('df-f4d9d915-2cbc-41df-8034-6f8ca4b580cf')\"\n",
              "            title=\"Suggest charts\"\n",
              "            style=\"display:none;\">\n",
              "\n",
              "<svg xmlns=\"http://www.w3.org/2000/svg\" height=\"24px\"viewBox=\"0 0 24 24\"\n",
              "     width=\"24px\">\n",
              "    <g>\n",
              "        <path d=\"M19 3H5c-1.1 0-2 .9-2 2v14c0 1.1.9 2 2 2h14c1.1 0 2-.9 2-2V5c0-1.1-.9-2-2-2zM9 17H7v-7h2v7zm4 0h-2V7h2v10zm4 0h-2v-4h2v4z\"/>\n",
              "    </g>\n",
              "</svg>\n",
              "  </button>\n",
              "\n",
              "<style>\n",
              "  .colab-df-quickchart {\n",
              "      --bg-color: #E8F0FE;\n",
              "      --fill-color: #1967D2;\n",
              "      --hover-bg-color: #E2EBFA;\n",
              "      --hover-fill-color: #174EA6;\n",
              "      --disabled-fill-color: #AAA;\n",
              "      --disabled-bg-color: #DDD;\n",
              "  }\n",
              "\n",
              "  [theme=dark] .colab-df-quickchart {\n",
              "      --bg-color: #3B4455;\n",
              "      --fill-color: #D2E3FC;\n",
              "      --hover-bg-color: #434B5C;\n",
              "      --hover-fill-color: #FFFFFF;\n",
              "      --disabled-bg-color: #3B4455;\n",
              "      --disabled-fill-color: #666;\n",
              "  }\n",
              "\n",
              "  .colab-df-quickchart {\n",
              "    background-color: var(--bg-color);\n",
              "    border: none;\n",
              "    border-radius: 50%;\n",
              "    cursor: pointer;\n",
              "    display: none;\n",
              "    fill: var(--fill-color);\n",
              "    height: 32px;\n",
              "    padding: 0;\n",
              "    width: 32px;\n",
              "  }\n",
              "\n",
              "  .colab-df-quickchart:hover {\n",
              "    background-color: var(--hover-bg-color);\n",
              "    box-shadow: 0 1px 2px rgba(60, 64, 67, 0.3), 0 1px 3px 1px rgba(60, 64, 67, 0.15);\n",
              "    fill: var(--button-hover-fill-color);\n",
              "  }\n",
              "\n",
              "  .colab-df-quickchart-complete:disabled,\n",
              "  .colab-df-quickchart-complete:disabled:hover {\n",
              "    background-color: var(--disabled-bg-color);\n",
              "    fill: var(--disabled-fill-color);\n",
              "    box-shadow: none;\n",
              "  }\n",
              "\n",
              "  .colab-df-spinner {\n",
              "    border: 2px solid var(--fill-color);\n",
              "    border-color: transparent;\n",
              "    border-bottom-color: var(--fill-color);\n",
              "    animation:\n",
              "      spin 1s steps(1) infinite;\n",
              "  }\n",
              "\n",
              "  @keyframes spin {\n",
              "    0% {\n",
              "      border-color: transparent;\n",
              "      border-bottom-color: var(--fill-color);\n",
              "      border-left-color: var(--fill-color);\n",
              "    }\n",
              "    20% {\n",
              "      border-color: transparent;\n",
              "      border-left-color: var(--fill-color);\n",
              "      border-top-color: var(--fill-color);\n",
              "    }\n",
              "    30% {\n",
              "      border-color: transparent;\n",
              "      border-left-color: var(--fill-color);\n",
              "      border-top-color: var(--fill-color);\n",
              "      border-right-color: var(--fill-color);\n",
              "    }\n",
              "    40% {\n",
              "      border-color: transparent;\n",
              "      border-right-color: var(--fill-color);\n",
              "      border-top-color: var(--fill-color);\n",
              "    }\n",
              "    60% {\n",
              "      border-color: transparent;\n",
              "      border-right-color: var(--fill-color);\n",
              "    }\n",
              "    80% {\n",
              "      border-color: transparent;\n",
              "      border-right-color: var(--fill-color);\n",
              "      border-bottom-color: var(--fill-color);\n",
              "    }\n",
              "    90% {\n",
              "      border-color: transparent;\n",
              "      border-bottom-color: var(--fill-color);\n",
              "    }\n",
              "  }\n",
              "</style>\n",
              "\n",
              "  <script>\n",
              "    async function quickchart(key) {\n",
              "      const quickchartButtonEl =\n",
              "        document.querySelector('#' + key + ' button');\n",
              "      quickchartButtonEl.disabled = true;  // To prevent multiple clicks.\n",
              "      quickchartButtonEl.classList.add('colab-df-spinner');\n",
              "      try {\n",
              "        const charts = await google.colab.kernel.invokeFunction(\n",
              "            'suggestCharts', [key], {});\n",
              "      } catch (error) {\n",
              "        console.error('Error during call to suggestCharts:', error);\n",
              "      }\n",
              "      quickchartButtonEl.classList.remove('colab-df-spinner');\n",
              "      quickchartButtonEl.classList.add('colab-df-quickchart-complete');\n",
              "    }\n",
              "    (() => {\n",
              "      let quickchartButtonEl =\n",
              "        document.querySelector('#df-f4d9d915-2cbc-41df-8034-6f8ca4b580cf button');\n",
              "      quickchartButtonEl.style.display =\n",
              "        google.colab.kernel.accessAllowed ? 'block' : 'none';\n",
              "    })();\n",
              "  </script>\n",
              "</div>\n",
              "\n",
              "    </div>\n",
              "  </div>\n"
            ],
            "application/vnd.google.colaboratory.intrinsic+json": {
              "type": "dataframe"
            }
          },
          "metadata": {},
          "execution_count": 35
        }
      ],
      "source": [
        "X_train.sample(3)"
      ]
    },
    {
      "cell_type": "markdown",
      "metadata": {
        "id": "O2-qj_c_3DnT"
      },
      "source": [
        "Преобразование датасетов к catboost формату"
      ]
    },
    {
      "cell_type": "code",
      "execution_count": 36,
      "metadata": {
        "id": "ZDzb35UK58jf"
      },
      "outputs": [],
      "source": [
        "from catboost import Pool\n",
        "\n",
        "train_pool = Pool(\n",
        "    X_train, y_train,\n",
        "    cat_features=cat_features,\n",
        ")\n",
        "\n",
        "validation_pool = Pool(\n",
        "    X_val, y_val,\n",
        "    cat_features=cat_features,\n",
        ")\n"
      ]
    },
    {
      "cell_type": "markdown",
      "metadata": {
        "id": "YR9Yv4is3PZz"
      },
      "source": [
        "##Обучение"
      ]
    },
    {
      "cell_type": "code",
      "execution_count": 37,
      "metadata": {
        "id": "VpoUBJpW5Bhh"
      },
      "outputs": [],
      "source": [
        "from catboost import CatBoostClassifier\n",
        "def fit_model(train, validation_pool, grow_policy=\"SymmetricTree\", **kwargs):\n",
        "    model = CatBoostClassifier(\n",
        "        class_weights=weights_dict,#list_of_weights,\n",
        "        iterations=10000,\n",
        "        learning_rate=0.05,\n",
        "        loss_function=\"MultiClass\",\n",
        "        eval_metric='AUC',\n",
        "        task_type='GPU',\n",
        "        train_dir='train',\n",
        "        early_stopping_rounds=1000,\n",
        "        grow_policy = grow_policy,#\"SymmetricTree\" #Depthwise #Lossguide\n",
        "        **kwargs\n",
        "    )\n",
        "    return model.fit(\n",
        "        train_pool,\n",
        "        eval_set=validation_pool,\n",
        "        verbose=500,\n",
        "    )\n"
      ]
    },
    {
      "cell_type": "code",
      "source": [
        "model1 = fit_model(train_pool, validation_pool, grow_policy=\"SymmetricTree\")\n",
        "model2 = fit_model(train_pool, validation_pool, grow_policy=\"Depthwise\")"
      ],
      "metadata": {
        "id": "8uSixDO9zJDE",
        "outputId": "9444a48c-a056-42e1-c096-80df76d8f6b3",
        "colab": {
          "base_uri": "https://localhost:8080/"
        }
      },
      "execution_count": 38,
      "outputs": [
        {
          "output_type": "stream",
          "name": "stderr",
          "text": [
            "Default metric period is 5 because AUC is/are not implemented for GPU\n",
            "AUC is not implemented on GPU. Will use CPU for metric computation, this could significantly affect learning time\n"
          ]
        },
        {
          "output_type": "stream",
          "name": "stdout",
          "text": [
            "0:\ttest: 0.8272341\tbest: 0.8272341 (0)\ttotal: 177ms\tremaining: 29m 33s\n",
            "500:\ttest: 0.9431234\tbest: 0.9437973 (437)\ttotal: 59.9s\tremaining: 18m 55s\n",
            "1000:\ttest: 0.9439775\tbest: 0.9443581 (940)\ttotal: 1m 59s\tremaining: 17m 56s\n",
            "1500:\ttest: 0.9431477\tbest: 0.9450788 (1118)\ttotal: 2m 58s\tremaining: 16m 48s\n",
            "2000:\ttest: 0.9399962\tbest: 0.9450788 (1118)\ttotal: 3m 57s\tremaining: 15m 49s\n",
            "bestTest = 0.9450788145\n",
            "bestIteration = 1118\n",
            "Shrink model to first 1119 iterations.\n"
          ]
        },
        {
          "output_type": "stream",
          "name": "stderr",
          "text": [
            "Default metric period is 5 because AUC is/are not implemented for GPU\n",
            "AUC is not implemented on GPU. Will use CPU for metric computation, this could significantly affect learning time\n"
          ]
        },
        {
          "output_type": "stream",
          "name": "stdout",
          "text": [
            "0:\ttest: 0.8029137\tbest: 0.8029137 (0)\ttotal: 318ms\tremaining: 52m 56s\n",
            "500:\ttest: 0.9343999\tbest: 0.9379036 (148)\ttotal: 1m\tremaining: 19m 3s\n",
            "1000:\ttest: 0.9362878\tbest: 0.9391896 (793)\ttotal: 1m 54s\tremaining: 17m 13s\n",
            "1500:\ttest: 0.9426213\tbest: 0.9426213 (1500)\ttotal: 2m 59s\tremaining: 16m 54s\n",
            "2000:\ttest: 0.9411921\tbest: 0.9431401 (1513)\ttotal: 3m 58s\tremaining: 15m 52s\n",
            "2500:\ttest: 0.9408232\tbest: 0.9431401 (1513)\ttotal: 4m 54s\tremaining: 14m 44s\n",
            "bestTest = 0.9431400713\n",
            "bestIteration = 1513\n",
            "Shrink model to first 1514 iterations.\n"
          ]
        }
      ]
    },
    {
      "cell_type": "code",
      "execution_count": 39,
      "metadata": {
        "id": "H6mEp9ISenSe",
        "colab": {
          "base_uri": "https://localhost:8080/"
        },
        "outputId": "05bfa3d2-be44-4ea9-bc18-160092018864"
      },
      "outputs": [
        {
          "output_type": "execute_result",
          "data": {
            "text/plain": [
              "array([[7.12680326e-04, 1.13848152e-04, 3.39504285e-04, ...,\n",
              "        1.28118021e-04, 2.65622908e-03, 1.10796086e-03],\n",
              "       [7.52638814e-04, 5.77758936e-05, 1.27478160e-03, ...,\n",
              "        1.25175388e-04, 6.25459139e-03, 3.47929199e-04],\n",
              "       [1.22599725e-03, 2.37678524e-04, 1.18514513e-03, ...,\n",
              "        7.62586888e-04, 1.32208593e-02, 3.19825394e-03],\n",
              "       ...,\n",
              "       [3.86961938e-02, 2.69437347e-03, 2.42829589e-04, ...,\n",
              "        5.84392003e-05, 1.11000996e-04, 4.00927300e-04],\n",
              "       [1.30626825e-03, 7.91831689e-03, 1.42221757e-04, ...,\n",
              "        2.57882438e-05, 6.41572292e-05, 5.17721289e-05],\n",
              "       [6.52367554e-03, 1.06243325e-04, 5.94168297e-04, ...,\n",
              "        1.28659465e-04, 1.47302056e-03, 1.78519523e-03]])"
            ]
          },
          "metadata": {},
          "execution_count": 39
        }
      ],
      "source": [
        "model1.predict(validation_pool, prediction_type=\"Probability\")\n",
        "model2.predict(validation_pool, prediction_type=\"Probability\")"
      ]
    },
    {
      "cell_type": "markdown",
      "metadata": {
        "id": "BYRVKqvv7Cbx"
      },
      "source": [
        "###Подсчет важности фичей"
      ]
    },
    {
      "cell_type": "code",
      "execution_count": 40,
      "metadata": {
        "id": "eYscCK-WgeKS"
      },
      "outputs": [],
      "source": [
        "importances = model1.get_feature_importance(type='PredictionValuesChange')#[:20]\n",
        "feature_importances = pd.Series(importances, index=X_val.columns).sort_values().iloc[len(X_val.columns)-20:]"
      ]
    },
    {
      "cell_type": "code",
      "execution_count": 41,
      "metadata": {
        "id": "dVs_pWzwf-WD",
        "colab": {
          "base_uri": "https://localhost:8080/",
          "height": 872
        },
        "outputId": "a8c26280-a686-42f9-c04e-16b9c79c2578"
      },
      "outputs": [
        {
          "output_type": "display_data",
          "data": {
            "text/plain": [
              "<Figure size 1000x1000 with 1 Axes>"
            ],
            "image/png": "[encoded data removed]"
          },
          "metadata": {}
        }
      ],
      "source": [
        "plt.figure(figsize=(10, 10));\n",
        "plt.barh(feature_importances.index, feature_importances.values);\n",
        "plt.title('CatBoost Feature Importance');\n",
        "plt.xlabel('Importance');\n",
        "plt.ylabel('Features');"
      ]
    },
    {
      "cell_type": "markdown",
      "metadata": {
        "id": "cfLFjyYHNTE4"
      },
      "source": [
        "# Прогноз на тестовой выборке"
      ]
    },
    {
      "cell_type": "code",
      "execution_count": 42,
      "metadata": {
        "id": "y3MSypdHxPai"
      },
      "outputs": [],
      "source": [
        "test_path = '/content/drive/MyDrive/Alfa FinU Hack/test_data.pqt'.replace('\\t', ' ')\n",
        "test_df = pd.read_parquet(test_path)\n",
        "\n",
        "\n",
        "test_df = fill_spaces(test_df)"
      ]
    },
    {
      "cell_type": "code",
      "execution_count": 43,
      "metadata": {
        "id": "au-oQ1N6x4Io"
      },
      "outputs": [],
      "source": [
        "month_to_predict_test='month_6'\n",
        "test_df = make_features(test_df.copy(),df_db.copy(), month_to_predict_test, cat_cols,select_dict, test_mode=True)"
      ]
    },
    {
      "cell_type": "code",
      "execution_count": 44,
      "metadata": {
        "id": "WYOZCWWSfBWb",
        "colab": {
          "base_uri": "https://localhost:8080/",
          "height": 224
        },
        "outputId": "471284c9-eef1-46d5-c453-1d7ee24383e8"
      },
      "outputs": [
        {
          "output_type": "execute_result",
          "data": {
            "text/plain": [
              "        balance_amt_avg_1  balance_amt_max_1  balance_amt_min_1  \\\n",
              "id                                                                \n",
              "267411          -0.128968          -0.094018          -0.114595   \n",
              "281911           0.000000           0.000000           0.000000   \n",
              "265838          -0.151056          -0.198140          -0.123810   \n",
              "\n",
              "        balance_amt_day_avg_1   channel_code_1     city_type_1  \\\n",
              "id                                                               \n",
              "267411              -0.128418  channel_code_12  city_type_4131   \n",
              "281911               0.000000                                    \n",
              "265838              -0.150575   channel_code_1     city_type_0   \n",
              "\n",
              "         index_city_code_1  ogrn_days_end_month_1  ogrn_days_end_quarter_1  \\\n",
              "id                                                                           \n",
              "267411                                  -0.953065                -0.289931   \n",
              "281911                                  -1.069193                 0.832860   \n",
              "265838  index_city_code_93               0.788855                -0.909402   \n",
              "\n",
              "        ogrn_month_1  ... cnt_days_cred_g_oper_3m_mean  \\\n",
              "id                    ...                                \n",
              "267411  ogrn_month_4  ...                     0.403930   \n",
              "281911                ...                     0.000000   \n",
              "265838  ogrn_month_9  ...                     0.384773   \n",
              "\n",
              "        sum_deb_h_oper_3m_mean  cnt_deb_h_oper_3m_mean  \\\n",
              "id                                                       \n",
              "267411                0.069421                0.548274   \n",
              "281911               -0.165588                0.000000   \n",
              "265838               -0.150168                0.547558   \n",
              "\n",
              "        cnt_days_deb_h_oper_3m_mean  sum_cred_h_oper_3m_mean  \\\n",
              "id                                                             \n",
              "267411                     0.459539                -0.201123   \n",
              "281911                     0.000000                -0.201123   \n",
              "265838                     0.448428                -0.186388   \n",
              "\n",
              "       cnt_cred_h_oper_3m_mean cnt_days_cred_h_oper_3m_mean  change_clusters  \\\n",
              "id                                                                             \n",
              "267411                0.250924                     0.374540                0   \n",
              "281911                0.000000                     0.000000                1   \n",
              "265838                0.252560                     0.433148                0   \n",
              "\n",
              "        cnt_c_oper_1m_sum  sum_operations  \n",
              "id                                         \n",
              "267411           1.652394        4.211444  \n",
              "281911           0.000000        0.000000  \n",
              "265838           1.652394        4.211444  \n",
              "\n",
              "[3 rows x 338 columns]"
            ],
            "text/html": [
              "\n",
              "  <div id=\"df-284f526b-1b9e-4d1a-b6f4-8ac6caa12bd9\" class=\"colab-df-container\">\n",
              "    <div>\n",
              "<style scoped>\n",
              "    .dataframe tbody tr th:only-of-type {\n",
              "        vertical-align: middle;\n",
              "    }\n",
              "\n",
              "    .dataframe tbody tr th {\n",
              "        vertical-align: top;\n",
              "    }\n",
              "\n",
              "    .dataframe thead th {\n",
              "        text-align: right;\n",
              "    }\n",
              "</style>\n",
              "<table border=\"1\" class=\"dataframe\">\n",
              "  <thead>\n",
              "    <tr style=\"text-align: right;\">\n",
              "      <th></th>\n",
              "      <th>balance_amt_avg_1</th>\n",
              "      <th>balance_amt_max_1</th>\n",
              "      <th>balance_amt_min_1</th>\n",
              "      <th>balance_amt_day_avg_1</th>\n",
              "      <th>channel_code_1</th>\n",
              "      <th>city_type_1</th>\n",
              "      <th>index_city_code_1</th>\n",
              "      <th>ogrn_days_end_month_1</th>\n",
              "      <th>ogrn_days_end_quarter_1</th>\n",
              "      <th>ogrn_month_1</th>\n",
              "      <th>...</th>\n",
              "      <th>cnt_days_cred_g_oper_3m_mean</th>\n",
              "      <th>sum_deb_h_oper_3m_mean</th>\n",
              "      <th>cnt_deb_h_oper_3m_mean</th>\n",
              "      <th>cnt_days_deb_h_oper_3m_mean</th>\n",
              "      <th>sum_cred_h_oper_3m_mean</th>\n",
              "      <th>cnt_cred_h_oper_3m_mean</th>\n",
              "      <th>cnt_days_cred_h_oper_3m_mean</th>\n",
              "      <th>change_clusters</th>\n",
              "      <th>cnt_c_oper_1m_sum</th>\n",
              "      <th>sum_operations</th>\n",
              "    </tr>\n",
              "    <tr>\n",
              "      <th>id</th>\n",
              "      <th></th>\n",
              "      <th></th>\n",
              "      <th></th>\n",
              "      <th></th>\n",
              "      <th></th>\n",
              "      <th></th>\n",
              "      <th></th>\n",
              "      <th></th>\n",
              "      <th></th>\n",
              "      <th></th>\n",
              "      <th></th>\n",
              "      <th></th>\n",
              "      <th></th>\n",
              "      <th></th>\n",
              "      <th></th>\n",
              "      <th></th>\n",
              "      <th></th>\n",
              "      <th></th>\n",
              "      <th></th>\n",
              "      <th></th>\n",
              "      <th></th>\n",
              "    </tr>\n",
              "  </thead>\n",
              "  <tbody>\n",
              "    <tr>\n",
              "      <th>267411</th>\n",
              "      <td>-0.128968</td>\n",
              "      <td>-0.094018</td>\n",
              "      <td>-0.114595</td>\n",
              "      <td>-0.128418</td>\n",
              "      <td>channel_code_12</td>\n",
              "      <td>city_type_4131</td>\n",
              "      <td></td>\n",
              "      <td>-0.953065</td>\n",
              "      <td>-0.289931</td>\n",
              "      <td>ogrn_month_4</td>\n",
              "      <td>...</td>\n",
              "      <td>0.403930</td>\n",
              "      <td>0.069421</td>\n",
              "      <td>0.548274</td>\n",
              "      <td>0.459539</td>\n",
              "      <td>-0.201123</td>\n",
              "      <td>0.250924</td>\n",
              "      <td>0.374540</td>\n",
              "      <td>0</td>\n",
              "      <td>1.652394</td>\n",
              "      <td>4.211444</td>\n",
              "    </tr>\n",
              "    <tr>\n",
              "      <th>281911</th>\n",
              "      <td>0.000000</td>\n",
              "      <td>0.000000</td>\n",
              "      <td>0.000000</td>\n",
              "      <td>0.000000</td>\n",
              "      <td></td>\n",
              "      <td></td>\n",
              "      <td></td>\n",
              "      <td>-1.069193</td>\n",
              "      <td>0.832860</td>\n",
              "      <td></td>\n",
              "      <td>...</td>\n",
              "      <td>0.000000</td>\n",
              "      <td>-0.165588</td>\n",
              "      <td>0.000000</td>\n",
              "      <td>0.000000</td>\n",
              "      <td>-0.201123</td>\n",
              "      <td>0.000000</td>\n",
              "      <td>0.000000</td>\n",
              "      <td>1</td>\n",
              "      <td>0.000000</td>\n",
              "      <td>0.000000</td>\n",
              "    </tr>\n",
              "    <tr>\n",
              "      <th>265838</th>\n",
              "      <td>-0.151056</td>\n",
              "      <td>-0.198140</td>\n",
              "      <td>-0.123810</td>\n",
              "      <td>-0.150575</td>\n",
              "      <td>channel_code_1</td>\n",
              "      <td>city_type_0</td>\n",
              "      <td>index_city_code_93</td>\n",
              "      <td>0.788855</td>\n",
              "      <td>-0.909402</td>\n",
              "      <td>ogrn_month_9</td>\n",
              "      <td>...</td>\n",
              "      <td>0.384773</td>\n",
              "      <td>-0.150168</td>\n",
              "      <td>0.547558</td>\n",
              "      <td>0.448428</td>\n",
              "      <td>-0.186388</td>\n",
              "      <td>0.252560</td>\n",
              "      <td>0.433148</td>\n",
              "      <td>0</td>\n",
              "      <td>1.652394</td>\n",
              "      <td>4.211444</td>\n",
              "    </tr>\n",
              "  </tbody>\n",
              "</table>\n",
              "<p>3 rows × 338 columns</p>\n",
              "</div>\n",
              "    <div class=\"colab-df-buttons\">\n",
              "\n",
              "  <div class=\"colab-df-container\">\n",
              "    <button class=\"colab-df-convert\" onclick=\"convertToInteractive('df-284f526b-1b9e-4d1a-b6f4-8ac6caa12bd9')\"\n",
              "            title=\"Convert this dataframe to an interactive table.\"\n",
              "            style=\"display:none;\">\n",
              "\n",
              "  <svg xmlns=\"http://www.w3.org/2000/svg\" height=\"24px\" viewBox=\"0 -960 960 960\">\n",
              "    <path d=\"M120-120v-720h720v720H120Zm60-500h600v-160H180v160Zm220 220h160v-160H400v160Zm0 220h160v-160H400v160ZM180-400h160v-160H180v160Zm440 0h160v-160H620v160ZM180-180h160v-160H180v160Zm440 0h160v-160H620v160Z\"/>\n",
              "  </svg>\n",
              "    </button>\n",
              "\n",
              "  <style>\n",
              "    .colab-df-container {\n",
              "      display:flex;\n",
              "      gap: 12px;\n",
              "    }\n",
              "\n",
              "    .colab-df-convert {\n",
              "      background-color: #E8F0FE;\n",
              "      border: none;\n",
              "      border-radius: 50%;\n",
              "      cursor: pointer;\n",
              "      display: none;\n",
              "      fill: #1967D2;\n",
              "      height: 32px;\n",
              "      padding: 0 0 0 0;\n",
              "      width: 32px;\n",
              "    }\n",
              "\n",
              "    .colab-df-convert:hover {\n",
              "      background-color: #E2EBFA;\n",
              "      box-shadow: 0px 1px 2px rgba(60, 64, 67, 0.3), 0px 1px 3px 1px rgba(60, 64, 67, 0.15);\n",
              "      fill: #174EA6;\n",
              "    }\n",
              "\n",
              "    .colab-df-buttons div {\n",
              "      margin-bottom: 4px;\n",
              "    }\n",
              "\n",
              "    [theme=dark] .colab-df-convert {\n",
              "      background-color: #3B4455;\n",
              "      fill: #D2E3FC;\n",
              "    }\n",
              "\n",
              "    [theme=dark] .colab-df-convert:hover {\n",
              "      background-color: #434B5C;\n",
              "      box-shadow: 0px 1px 3px 1px rgba(0, 0, 0, 0.15);\n",
              "      filter: drop-shadow(0px 1px 2px rgba(0, 0, 0, 0.3));\n",
              "      fill: #FFFFFF;\n",
              "    }\n",
              "  </style>\n",
              "\n",
              "    <script>\n",
              "      const buttonEl =\n",
              "        document.querySelector('#df-284f526b-1b9e-4d1a-b6f4-8ac6caa12bd9 button.colab-df-convert');\n",
              "      buttonEl.style.display =\n",
              "        google.colab.kernel.accessAllowed ? 'block' : 'none';\n",
              "\n",
              "      async function convertToInteractive(key) {\n",
              "        const element = document.querySelector('#df-284f526b-1b9e-4d1a-b6f4-8ac6caa12bd9');\n",
              "        const dataTable =\n",
              "          await google.colab.kernel.invokeFunction('convertToInteractive',\n",
              "                                                    [key], {});\n",
              "        if (!dataTable) return;\n",
              "\n",
              "        const docLinkHtml = 'Like what you see? Visit the ' +\n",
              "          '<a target=\"_blank\" href=https://colab.research.google.com/notebooks/data_table.ipynb>data table notebook</a>'\n",
              "          + ' to learn more about interactive tables.';\n",
              "        element.innerHTML = '';\n",
              "        dataTable['output_type'] = 'display_data';\n",
              "        await google.colab.output.renderOutput(dataTable, element);\n",
              "        const docLink = document.createElement('div');\n",
              "        docLink.innerHTML = docLinkHtml;\n",
              "        element.appendChild(docLink);\n",
              "      }\n",
              "    </script>\n",
              "  </div>\n",
              "\n",
              "\n",
              "<div id=\"df-cb60cadb-eb4c-40d5-b253-7e3b2e1e2399\">\n",
              "  <button class=\"colab-df-quickchart\" onclick=\"quickchart('df-cb60cadb-eb4c-40d5-b253-7e3b2e1e2399')\"\n",
              "            title=\"Suggest charts\"\n",
              "            style=\"display:none;\">\n",
              "\n",
              "<svg xmlns=\"http://www.w3.org/2000/svg\" height=\"24px\"viewBox=\"0 0 24 24\"\n",
              "     width=\"24px\">\n",
              "    <g>\n",
              "        <path d=\"M19 3H5c-1.1 0-2 .9-2 2v14c0 1.1.9 2 2 2h14c1.1 0 2-.9 2-2V5c0-1.1-.9-2-2-2zM9 17H7v-7h2v7zm4 0h-2V7h2v10zm4 0h-2v-4h2v4z\"/>\n",
              "    </g>\n",
              "</svg>\n",
              "  </button>\n",
              "\n",
              "<style>\n",
              "  .colab-df-quickchart {\n",
              "      --bg-color: #E8F0FE;\n",
              "      --fill-color: #1967D2;\n",
              "      --hover-bg-color: #E2EBFA;\n",
              "      --hover-fill-color: #174EA6;\n",
              "      --disabled-fill-color: #AAA;\n",
              "      --disabled-bg-color: #DDD;\n",
              "  }\n",
              "\n",
              "  [theme=dark] .colab-df-quickchart {\n",
              "      --bg-color: #3B4455;\n",
              "      --fill-color: #D2E3FC;\n",
              "      --hover-bg-color: #434B5C;\n",
              "      --hover-fill-color: #FFFFFF;\n",
              "      --disabled-bg-color: #3B4455;\n",
              "      --disabled-fill-color: #666;\n",
              "  }\n",
              "\n",
              "  .colab-df-quickchart {\n",
              "    background-color: var(--bg-color);\n",
              "    border: none;\n",
              "    border-radius: 50%;\n",
              "    cursor: pointer;\n",
              "    display: none;\n",
              "    fill: var(--fill-color);\n",
              "    height: 32px;\n",
              "    padding: 0;\n",
              "    width: 32px;\n",
              "  }\n",
              "\n",
              "  .colab-df-quickchart:hover {\n",
              "    background-color: var(--hover-bg-color);\n",
              "    box-shadow: 0 1px 2px rgba(60, 64, 67, 0.3), 0 1px 3px 1px rgba(60, 64, 67, 0.15);\n",
              "    fill: var(--button-hover-fill-color);\n",
              "  }\n",
              "\n",
              "  .colab-df-quickchart-complete:disabled,\n",
              "  .colab-df-quickchart-complete:disabled:hover {\n",
              "    background-color: var(--disabled-bg-color);\n",
              "    fill: var(--disabled-fill-color);\n",
              "    box-shadow: none;\n",
              "  }\n",
              "\n",
              "  .colab-df-spinner {\n",
              "    border: 2px solid var(--fill-color);\n",
              "    border-color: transparent;\n",
              "    border-bottom-color: var(--fill-color);\n",
              "    animation:\n",
              "      spin 1s steps(1) infinite;\n",
              "  }\n",
              "\n",
              "  @keyframes spin {\n",
              "    0% {\n",
              "      border-color: transparent;\n",
              "      border-bottom-color: var(--fill-color);\n",
              "      border-left-color: var(--fill-color);\n",
              "    }\n",
              "    20% {\n",
              "      border-color: transparent;\n",
              "      border-left-color: var(--fill-color);\n",
              "      border-top-color: var(--fill-color);\n",
              "    }\n",
              "    30% {\n",
              "      border-color: transparent;\n",
              "      border-left-color: var(--fill-color);\n",
              "      border-top-color: var(--fill-color);\n",
              "      border-right-color: var(--fill-color);\n",
              "    }\n",
              "    40% {\n",
              "      border-color: transparent;\n",
              "      border-right-color: var(--fill-color);\n",
              "      border-top-color: var(--fill-color);\n",
              "    }\n",
              "    60% {\n",
              "      border-color: transparent;\n",
              "      border-right-color: var(--fill-color);\n",
              "    }\n",
              "    80% {\n",
              "      border-color: transparent;\n",
              "      border-right-color: var(--fill-color);\n",
              "      border-bottom-color: var(--fill-color);\n",
              "    }\n",
              "    90% {\n",
              "      border-color: transparent;\n",
              "      border-bottom-color: var(--fill-color);\n",
              "    }\n",
              "  }\n",
              "</style>\n",
              "\n",
              "  <script>\n",
              "    async function quickchart(key) {\n",
              "      const quickchartButtonEl =\n",
              "        document.querySelector('#' + key + ' button');\n",
              "      quickchartButtonEl.disabled = true;  // To prevent multiple clicks.\n",
              "      quickchartButtonEl.classList.add('colab-df-spinner');\n",
              "      try {\n",
              "        const charts = await google.colab.kernel.invokeFunction(\n",
              "            'suggestCharts', [key], {});\n",
              "      } catch (error) {\n",
              "        console.error('Error during call to suggestCharts:', error);\n",
              "      }\n",
              "      quickchartButtonEl.classList.remove('colab-df-spinner');\n",
              "      quickchartButtonEl.classList.add('colab-df-quickchart-complete');\n",
              "    }\n",
              "    (() => {\n",
              "      let quickchartButtonEl =\n",
              "        document.querySelector('#df-cb60cadb-eb4c-40d5-b253-7e3b2e1e2399 button');\n",
              "      quickchartButtonEl.style.display =\n",
              "        google.colab.kernel.accessAllowed ? 'block' : 'none';\n",
              "    })();\n",
              "  </script>\n",
              "</div>\n",
              "\n",
              "    </div>\n",
              "  </div>\n"
            ],
            "application/vnd.google.colaboratory.intrinsic+json": {
              "type": "dataframe"
            }
          },
          "metadata": {},
          "execution_count": 44
        }
      ],
      "source": [
        "test_df.sample(3)"
      ]
    },
    {
      "cell_type": "markdown",
      "metadata": {
        "id": "1qVgADkI1MnS"
      },
      "source": [
        "Делаем прогноз"
      ]
    },
    {
      "cell_type": "code",
      "execution_count": 45,
      "metadata": {
        "id": "19UEoMavq5GC"
      },
      "outputs": [],
      "source": [
        "test_pred1 = model1.predict(test_df, prediction_type=\"Probability\")\n",
        "test_pred2 = model2.predict(test_df, prediction_type=\"Probability\")\n",
        "\n",
        "test_pred1 = pd.DataFrame(test_pred1, columns=model1.classes_)\n",
        "test_pred2 = pd.DataFrame(test_pred2, columns=model2.classes_)\n",
        "\n",
        "sorted_classes = sorted(test_pred1.columns.to_list())\n"
      ]
    },
    {
      "cell_type": "code",
      "source": [
        "submission = pd.read_csv(\"/content/drive/MyDrive/Alfa FinU Hack/sample_submission.csv\")\n",
        "for i in range(0, 101, 10):\n",
        "  a = round(i/100, 2)\n",
        "  b = round(1-a, 2)\n",
        "  test_result = test_pred1 * a + test_pred2 * b\n",
        "  test_pred_proba_df = test_result[sorted_classes]\n",
        "  submission[sorted_classes] = test_pred_proba_df\n",
        "  name_of_submission = \"submission\" + f\"_{a}_a+{b}_b_option\" +\".csv\"\n",
        "  submission.to_csv(name_of_submission, index=False)\n"
      ],
      "metadata": {
        "id": "ufWuHkrfElHb"
      },
      "execution_count": 46,
      "outputs": []
    },
    {
      "cell_type": "code",
      "source": [
        "!pip freeze > requirements.txt"
      ],
      "metadata": {
        "id": "qN41mgtYF3yH"
      },
      "execution_count": 47,
      "outputs": []
    }
  ],
  "metadata": {
    "accelerator": "GPU",
    "colab": {
      "gpuType": "T4",
      "provenance": []
    },
    "kaggle": {
      "accelerator": "none",
      "dataSources": [
        {
          "datasetId": 4751256,
          "sourceId": 8057546,
          "sourceType": "datasetVersion"
        }
      ],
      "dockerImageVersionId": 30684,
      "isGpuEnabled": false,
      "isInternetEnabled": true,
      "language": "python",
      "sourceType": "notebook"
    },
    "kernelspec": {
      "display_name": "Python 3",
      "language": "python",
      "name": "python3"
    },
    "language_info": {
      "codemirror_mode": {
        "name": "ipython",
        "version": 3
      },
      "file_extension": ".py",
      "mimetype": "text/x-python",
      "name": "python",
      "nbconvert_exporter": "python",
      "pygments_lexer": "ipython3",
      "version": "3.10.13"
    }
  },
  "nbformat": 4,
  "nbformat_minor": 0
}